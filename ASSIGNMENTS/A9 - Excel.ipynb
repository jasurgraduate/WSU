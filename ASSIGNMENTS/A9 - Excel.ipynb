{
 "cells": [
  {
   "cell_type": "markdown",
   "id": "53a15102",
   "metadata": {},
   "source": [
    "# **Excel**\n",
    "## Assignment: Navigating Workbooks\n",
    "### Excel Data Sales Tax\n",
    "Calculate the sales tax for customer C00010 in the excel workbook **'skishopdata.xlsx'**.\n",
    "Their transaction should be in row 'D10'. Apply a sales tax of 8%. \n",
    "\n",
    "Steps:\n",
    "* Import the openpyxl library.\n",
    "* Load the workbook 'skishopdata.xlsx' into Python.\n",
    "* Assign a name to the 'Orders_Info' worksheet."
   ]
  },
  {
   "cell_type": "code",
   "execution_count": 3,
   "id": "3d9b16c3",
   "metadata": {},
   "outputs": [
    {
     "name": "stdout",
     "output_type": "stream",
     "text": [
      "['Item_Info', 'Inventory_Levels', 'Orders_Info']\n",
      "<Worksheet \"Orders_Info\">\n"
     ]
    }
   ],
   "source": [
    "# MAKE SURE THERE ARE NO WHITESPACES IN YOUR FOLDER NAME!\n",
    "import openpyxl as xl\n",
    "wb = xl.load_workbook(filename='skishopdata.xlsx')\n",
    "print(wb.sheetnames)\n",
    "orders = wb[\"Orders_Info\"]\n",
    "print(orders)"
   ]
  },
  {
   "cell_type": "markdown",
   "id": "29c10cac",
   "metadata": {},
   "source": [
    "### Sales Tax Calculation\n",
    "* Calculate the sales tax and total for the transaction in cell D10. \n",
    "* Import and apply a tax calculator function.\n",
    "* Printing the output with a f-string message."
   ]
  },
  {
   "cell_type": "code",
   "execution_count": 7,
   "id": "9c21f0e8",
   "metadata": {},
   "outputs": [
    {
     "name": "stdout",
     "output_type": "stream",
     "text": [
      "Sales Tax: $6.0\n",
      "Total: $105.99\n"
     ]
    }
   ],
   "source": [
    "from tc import tc\n"
   ]
  },
  {
   "cell_type": "markdown",
   "id": "9840db0e",
   "metadata": {},
   "source": [
    "___\n",
    "## Assignment: Writing Data to a Column\n",
    "### New Currency Prices\n",
    "Add British Pound and Japanese Yen pricing to the 'Item_Info' sheet in the data Excel workbook. Below is the code to read in the excel workbook."
   ]
  },
  {
   "cell_type": "code",
   "execution_count": 10,
   "id": "af9cd7ca",
   "metadata": {},
   "outputs": [],
   "source": [
    "import openpyxl as xl\n",
    "wb = xl.load_workbook(filename='skishopdata.xlsx')\n",
    "items = wb['Item_Info']"
   ]
  },
  {
   "cell_type": "markdown",
   "id": "e82e1962",
   "metadata": {},
   "source": [
    "### Currency Converter\n",
    "* Create a function, `cc`, to accept a price and an exchange rate, returning a converted price rounded to 2 decimal places."
   ]
  },
  {
   "cell_type": "code",
   "execution_count": 11,
   "id": "89149440",
   "metadata": {},
   "outputs": [],
   "source": []
  },
  {
   "cell_type": "markdown",
   "id": "33bb30dd",
   "metadata": {},
   "source": [
    "### British Pound Column\n",
    "* With the currency converter, create a column with British Pound prices, in the column to the right of the Euro prices.\n",
    "* Add a column title, 'GBP Price'."
   ]
  },
  {
   "cell_type": "code",
   "execution_count": 12,
   "id": "cb808f7e",
   "metadata": {},
   "outputs": [],
   "source": [
    "# The range method\n",
    "gbprate = 0.76\n",
    "items[\"G1\"] = \"GBP Price\"\n"
   ]
  },
  {
   "cell_type": "markdown",
   "id": "e8ab3ec5",
   "metadata": {},
   "source": [
    "### Japanese Yen Column\n",
    "* Create a Japanese Yen Column with the same method as above.\n",
    "* Name this column, 'JPY Price'."
   ]
  },
  {
   "cell_type": "code",
   "execution_count": 13,
   "id": "6fc0f7d4",
   "metadata": {},
   "outputs": [],
   "source": [
    "# The enumerate method\n",
    "jpyrate = 123\n"
   ]
  },
  {
   "cell_type": "markdown",
   "id": "a628bd8e",
   "metadata": {},
   "source": [
    "### Save work!\n",
    "* Save the workbook as 'newprices.xlsx'.\n",
    "* Run the cell below, and check the notebook folder for a .xlsx file."
   ]
  },
  {
   "cell_type": "code",
   "execution_count": 14,
   "id": "bb34c49a",
   "metadata": {},
   "outputs": [],
   "source": [
    "wb.save('newprices.xlsx')"
   ]
  },
  {
   "cell_type": "markdown",
   "id": "2abc8ed5",
   "metadata": {},
   "source": [
    "___"
   ]
  }
 ],
 "metadata": {
  "kernelspec": {
   "display_name": "Python 3 (ipykernel)",
   "language": "python",
   "name": "python3"
  },
  "language_info": {
   "codemirror_mode": {
    "name": "ipython",
    "version": 3
   },
   "file_extension": ".py",
   "mimetype": "text/x-python",
   "name": "python",
   "nbconvert_exporter": "python",
   "pygments_lexer": "ipython3",
   "version": "3.12.3"
  }
 },
 "nbformat": 4,
 "nbformat_minor": 5
}
