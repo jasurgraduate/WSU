{
 "cells": [
  {
   "cell_type": "markdown",
   "id": "5a8c48f8",
   "metadata": {},
   "source": [
    "# **Arithmetic Operations**\n",
    "## Assignment: Arithmetic Operators"
   ]
  },
  {
   "cell_type": "markdown",
   "id": "afeff7d2",
   "metadata": {},
   "source": [
    "### 1. Calculate the gross profit on snowboard sales\n",
    "Formula: price - cost"
   ]
  },
  {
   "cell_type": "code",
   "execution_count": null,
   "id": "fbdecd04",
   "metadata": {},
   "outputs": [
    {
     "name": "stdout",
     "output_type": "stream",
     "text": [
      "Gross Profit: 300.0\n"
     ]
    }
   ],
   "source": [
    "snowboard_price = 499.99\n",
    "snowboard_cost = 199.99\n",
    "gp = snowboard_price-snowboard_cost\n",
    "print(f'Gross Profit: {gp}')\n"
   ]
  },
  {
   "cell_type": "markdown",
   "id": "f812ebf7",
   "metadata": {},
   "source": [
    "### 2. Calculate the gross margin on snowboard sales\n",
    "Formula: gross profit / price"
   ]
  },
  {
   "cell_type": "code",
   "execution_count": 28,
   "id": "9fec0a0d",
   "metadata": {},
   "outputs": [
    {
     "name": "stdout",
     "output_type": "stream",
     "text": [
      "Gross Margin:  0.6000\n"
     ]
    }
   ],
   "source": [
    "gm = gp/snowboard_price\n",
    "\n",
    "print(f'Gross Margin: {gm: .4f}')\n",
    "\n"
   ]
  },
  {
   "cell_type": "markdown",
   "id": "ecb4a248",
   "metadata": {},
   "source": [
    "### 3. Calculate the price needed to obtain a gross margin of 70%\n",
    "Formula:  cost / (1 minus the desired margin)."
   ]
  },
  {
   "cell_type": "code",
   "execution_count": 29,
   "id": "ef85028e",
   "metadata": {},
   "outputs": [
    {
     "name": "stdout",
     "output_type": "stream",
     "text": [
      "Gross Margin:  666.6\n"
     ]
    }
   ],
   "source": [
    "m = 1-0.7\n",
    "p70 = snowboard_cost/(1-0.7)\n",
    "print(f'Gross Margin: {p70: .1f}')"
   ]
  },
  {
   "cell_type": "markdown",
   "id": "bdf79354",
   "metadata": {},
   "source": [
    "### 4. Calculate the sales tax on a snowboard sale\n",
    "Tax rate: 8%\n",
    "\n",
    "Formula: Price * tax rate"
   ]
  },
  {
   "cell_type": "code",
   "execution_count": 30,
   "id": "9a00eb4d",
   "metadata": {},
   "outputs": [
    {
     "name": "stdout",
     "output_type": "stream",
     "text": [
      "Sales Tax:  40.00\n"
     ]
    }
   ],
   "source": [
    "taxrate = 0.08\n",
    "t =snowboard_price*taxrate\n",
    "print(f'Sales Tax: {t: .2f}')\n",
    "# IF i use simply {value: .2} without f it will show it with 10^n"
   ]
  },
  {
   "cell_type": "markdown",
   "id": "948e0099",
   "metadata": {},
   "source": [
    "### 5. Return on Profits\n",
    "Five snowboards were sold in one year. Calculate the total profit including the interest based on the gross profit per snowboard.\n",
    "\n",
    "interest = 5%.\n",
    "\n",
    "Formula: gp + (gp*interest)"
   ]
  },
  {
   "cell_type": "code",
   "execution_count": 31,
   "id": "770afcbd",
   "metadata": {},
   "outputs": [
    {
     "name": "stdout",
     "output_type": "stream",
     "text": [
      "Total Profit:  1515.0\n"
     ]
    }
   ],
   "source": [
    "sb5 = 5*gp\n",
    "int = 0.05\n",
    "tp = sb5+(gp*int)\n",
    "print(f'Total Profit: {tp: .1f}')"
   ]
  },
  {
   "cell_type": "markdown",
   "id": "972255a5",
   "metadata": {},
   "source": [
    "___\n",
    "## Assignment: Numeric Functions\n",
    "###  What are the highest and lowest priced items?\n",
    "\n",
    "Based on the list of prices below."
   ]
  },
  {
   "cell_type": "code",
   "execution_count": 32,
   "id": "9e0bc9a9",
   "metadata": {},
   "outputs": [
    {
     "name": "stdout",
     "output_type": "stream",
     "text": [
      "Highest price: $129.99\n",
      "Lowest price: $49.99\n"
     ]
    }
   ],
   "source": [
    "prices = [129.99, 99.99, 119.19, 99.99, 89.99, 79.99, 49.99]\n",
    "\n",
    "highest_price=max(prices)\n",
    "lowest_price=min(prices)\n",
    "\n",
    "\n",
    "print(f'Highest price: ${highest_price}')\n",
    "print(f'Lowest price: ${lowest_price}')\n"
   ]
  },
  {
   "cell_type": "markdown",
   "id": "32bd170b",
   "metadata": {},
   "source": [
    "How much would it cost for a customer to purchase two of every item in the price list? Round to 2 decimal places."
   ]
  },
  {
   "cell_type": "code",
   "execution_count": 48,
   "id": "3ab8645f",
   "metadata": {},
   "outputs": [
    {
     "name": "stdout",
     "output_type": "stream",
     "text": [
      "Total cost rounded:  669.1300\n"
     ]
    },
    {
     "data": {
      "text/plain": [
       "4"
      ]
     },
     "execution_count": 48,
     "metadata": {},
     "output_type": "execute_result"
    }
   ],
   "source": [
    "\n",
    "total_cost=sum(prices)\n",
    "\n",
    "total_cost_round = round(total_cost, 4)\n",
    "total_cost_round\n",
    "\n",
    "print(f'Total cost rounded: {total_cost_round: .4f}')\n",
    "\n",
    "jasur=-72.5694\n",
    "# jasur=round(jasur, 3)\n",
    "jasur=abs(jasur)\n",
    "jasur   \n",
    "\n",
    "# CTLR+/ for commenting the selected text\n",
    "\n",
    "# %who\n",
    "# %whos\n",
    "\n",
    "# USEFUL\n",
    "\n",
    "round(3.1454684548, 2)\n",
    "round(3.14548542)\n",
    "round(3.52)\n"
   ]
  },
  {
   "cell_type": "markdown",
   "id": "b7954e16",
   "metadata": {},
   "source": [
    "___"
   ]
  }
 ],
 "metadata": {
  "kernelspec": {
   "display_name": "Python 3 (ipykernel)",
   "language": "python",
   "name": "python3"
  },
  "language_info": {
   "codemirror_mode": {
    "name": "ipython",
    "version": 3
   },
   "file_extension": ".py",
   "mimetype": "text/x-python",
   "name": "python",
   "nbconvert_exporter": "python",
   "pygments_lexer": "ipython3",
   "version": "3.12.4"
  }
 },
 "nbformat": 4,
 "nbformat_minor": 5
}
