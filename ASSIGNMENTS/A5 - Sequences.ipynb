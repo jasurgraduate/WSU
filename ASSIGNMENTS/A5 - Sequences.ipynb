{
 "cells": [
  {
   "cell_type": "markdown",
   "id": "94e7c134",
   "metadata": {},
   "source": [
    "# **Sequences**\n",
    "## Assignment: List Operations\n",
    "### Create a List the customers who made purchases\n",
    "\n",
    "The customers who made purchases:\n",
    "C00001, C00003, C00004, C00005, C00006, C00007, C00018, C00010, C00013, C00014, C00015, C00016 and C00029\n",
    "\n",
    "Call the list `clist`."
   ]
  },
  {
   "cell_type": "code",
   "execution_count": 1,
   "id": "8cadc495",
   "metadata": {},
   "outputs": [
    {
     "data": {
      "text/plain": [
       "['C00001',\n",
       " 'C00003',\n",
       " 'C00004',\n",
       " 'C00005',\n",
       " 'C00006',\n",
       " 'C00007',\n",
       " 'C00018',\n",
       " 'C00010',\n",
       " 'C00013',\n",
       " 'C00014',\n",
       " 'C00015',\n",
       " 'C00016',\n",
       " 'C00029']"
      ]
     },
     "execution_count": 1,
     "metadata": {},
     "output_type": "execute_result"
    }
   ],
   "source": [
    "clist=['C00001', 'C00003', 'C00004', 'C00005', 'C00006', 'C00007', 'C00018', 'C00010', 'C00013', 'C00014', 'C00015', 'C00016', 'C00029']\n",
    "clist"
   ]
  },
  {
   "cell_type": "markdown",
   "id": "b5489e0a",
   "metadata": {},
   "source": [
    "### Did C00009 make a purchase?\n",
    "\n",
    "The customer, C00009 claimed to have made a purchase but the data is not displaying. If inded true, the revenue must be recorded.\n",
    "Write code that returns 99.99 if C00009 is in the list. If not, return 0.0."
   ]
  },
  {
   "cell_type": "code",
   "execution_count": 2,
   "id": "240e3813",
   "metadata": {},
   "outputs": [
    {
     "data": {
      "text/plain": [
       "0.0"
      ]
     },
     "execution_count": 2,
     "metadata": {},
     "output_type": "execute_result"
    }
   ],
   "source": []
  },
  {
   "cell_type": "markdown",
   "id": "779dc47b",
   "metadata": {},
   "source": [
    "### Market Research Samples\n",
    "\n",
    "1. Using slicing, create a list containing the 5th and 6th customer in the list called `fs`.\n"
   ]
  },
  {
   "cell_type": "code",
   "execution_count": 5,
   "id": "4cb5a882",
   "metadata": {},
   "outputs": [
    {
     "data": {
      "text/plain": [
       "['C00006', 'C00007']"
      ]
     },
     "execution_count": 5,
     "metadata": {},
     "output_type": "execute_result"
    }
   ],
   "source": [
    "fs=\n",
    "fs"
   ]
  },
  {
   "cell_type": "markdown",
   "id": "846b6822",
   "metadata": {},
   "source": [
    "2. Create a list called `et` that contains every third customer in the list (1st, 4rd, 7th, and so on...)."
   ]
  },
  {
   "cell_type": "code",
   "execution_count": 6,
   "id": "1a4b1c1e",
   "metadata": {},
   "outputs": [
    {
     "data": {
      "text/plain": [
       "['C00001', 'C00005', 'C00018', 'C00014', 'C00029']"
      ]
     },
     "execution_count": 6,
     "metadata": {},
     "output_type": "execute_result"
    }
   ],
   "source": [
    "et=\n",
    "et"
   ]
  },
  {
   "cell_type": "markdown",
   "id": "7747931d",
   "metadata": {},
   "source": [
    "3. Finally, using slicing, create a list with the last two customers in our dataset, called `lt`."
   ]
  },
  {
   "cell_type": "code",
   "execution_count": 7,
   "id": "dc1f5bb0",
   "metadata": {},
   "outputs": [
    {
     "data": {
      "text/plain": [
       "['C00016', 'C00029']"
      ]
     },
     "execution_count": 7,
     "metadata": {},
     "output_type": "execute_result"
    }
   ],
   "source": [
    "lt=\n",
    "lt"
   ]
  },
  {
   "cell_type": "markdown",
   "id": "a13a2c51",
   "metadata": {},
   "source": [
    "___\n",
    "## Assignment: Adding List Elements\n",
    "### Updated Customer Lists\n",
    "Add customer 'C00009' to `clist`. Below is the original `clist`."
   ]
  },
  {
   "cell_type": "code",
   "execution_count": 1,
   "id": "cb41bd19",
   "metadata": {},
   "outputs": [],
   "source": [
    "clist = [\n",
    "    'C00001', 'C00003', 'C00004','C00005', 'C00006', \n",
    "    'C00007', 'C00008', 'C00010', 'C00013', 'C00014', \n",
    "    'C00015', 'C00016', 'C00020'\n",
    "]"
   ]
  },
  {
   "cell_type": "code",
   "execution_count": null,
   "id": "1cd1ed8e",
   "metadata": {},
   "outputs": [],
   "source": [
    "\n",
    "print(clist)"
   ]
  },
  {
   "cell_type": "code",
   "execution_count": null,
   "id": "f3cc0461",
   "metadata": {},
   "outputs": [],
   "source": [
    "# Alternative method with .insert()\n",
    "\n",
    "print(clist)"
   ]
  },
  {
   "cell_type": "markdown",
   "id": "dd4ff756",
   "metadata": {},
   "source": [
    "### Adding Saturday Customers\n",
    "Add the customers from `satlist` to `clist` below."
   ]
  },
  {
   "cell_type": "code",
   "execution_count": null,
   "id": "9174bf7f",
   "metadata": {},
   "outputs": [],
   "source": [
    "satlist = [\n",
    "    'C00004', 'C00017', 'C00019', 'C00002', 'C00008',\n",
    "    'C00021', 'C00022'\n",
    "]"
   ]
  },
  {
   "cell_type": "code",
   "execution_count": null,
   "id": "72569ba0",
   "metadata": {},
   "outputs": [],
   "source": [
    "clist=\n",
    "print(clist)"
   ]
  },
  {
   "cell_type": "markdown",
   "id": "ef1a5bd5",
   "metadata": {},
   "source": [
    "___\n",
    "## Assignment: Removing List Elements\n",
    "### Updated Customer Lists (Final Update)\n",
    "Below is the full `clist`. Remove the Saturday customers from the `clist`(the final 7 customers)"
   ]
  },
  {
   "cell_type": "code",
   "execution_count": 1,
   "id": "891e5cd5",
   "metadata": {},
   "outputs": [],
   "source": [
    "# run this cell to recreate the list\n",
    "clist = [\n",
    "    'C00001', 'C00003', 'C00004', 'C00005', 'C00006',\n",
    "    'C00007', 'C00008', 'C00009', 'C00010', 'C00013', \n",
    "    'C00014', 'C00015', 'C00016', 'C00020', 'C00004', \n",
    "    'C00017', 'C00019', 'C00002', 'C00008', 'C00021',\n",
    "    'C00022'\n",
    "]"
   ]
  },
  {
   "cell_type": "code",
   "execution_count": 2,
   "id": "56875266",
   "metadata": {},
   "outputs": [
    {
     "name": "stdout",
     "output_type": "stream",
     "text": [
      "['C00001', 'C00003', 'C00004', 'C00005', 'C00006', 'C00007', 'C00008', 'C00009', 'C00010', 'C00013', 'C00014', 'C00015', 'C00016', 'C00020']\n"
     ]
    }
   ],
   "source": [
    "\n",
    "print(clist)"
   ]
  },
  {
   "cell_type": "markdown",
   "id": "2d1ad75d",
   "metadata": {},
   "source": [
    "### Delete a list object\n",
    "Please remove customer 'C00004' from the above list."
   ]
  },
  {
   "cell_type": "code",
   "execution_count": null,
   "id": "4c99c4db",
   "metadata": {},
   "outputs": [],
   "source": [
    "\n",
    "clist"
   ]
  },
  {
   "cell_type": "markdown",
   "id": "a281a9a5",
   "metadata": {},
   "source": [
    "___\n",
    "## Assignment: List Functions & Methods\n",
    "### Customer Data\n",
    "A compiled lists of customers' data in `custids` and `subtotals`, the amount before tax below."
   ]
  },
  {
   "cell_type": "code",
   "execution_count": 5,
   "id": "cccc4c49",
   "metadata": {},
   "outputs": [],
   "source": [
    "custids = [\n",
    "    'C00004', 'C00007', 'C00015', 'C00016', 'C00020',\n",
    "    'C00010', 'C00006', 'C00001', 'C00003', 'C00014',\n",
    "    'C00001', 'C00001', 'C00005', 'C00008', 'C00013',\n",
    "    'C00004', 'C00017', 'C00019', 'C00002', 'C00008',\n",
    "    'C00021', 'C00022', 'C00006', 'C00018', 'C00018',\n",
    "    'C00010', 'C00016'\n",
    "]\n",
    "\n",
    "subtotals = [\n",
    "    15.98, 899.97, 799.97, 117.96, 5.99,\n",
    "    599.99, 24.99, 1799.94, 99.99, 254.95,\n",
    "    29.98, 99.99, 25.98, 649.98, 89.99,\n",
    "    119.99, 599.99, 649.98, 24.99, 99.99,\n",
    "    99.99, 5.99, 24.99, 999.96, 99.99,\n",
    "    399.97, 89.99\n",
    "]"
   ]
  },
  {
   "cell_type": "markdown",
   "id": "b037bc89",
   "metadata": {},
   "source": [
    "### Calculate the Average Transaction\n",
    "Calculate the average value of the transactions in the list `subtotals`.\n",
    "Note: use sum() and len() to complete the task. "
   ]
  },
  {
   "cell_type": "code",
   "execution_count": 6,
   "id": "92285ea7",
   "metadata": {},
   "outputs": [
    {
     "data": {
      "text/plain": [
       "323.39"
      ]
     },
     "execution_count": 6,
     "metadata": {},
     "output_type": "execute_result"
    }
   ],
   "source": []
  },
  {
   "cell_type": "markdown",
   "id": "85cce56f",
   "metadata": {},
   "source": [
    "### Finding specific information\n",
    "Find the number of transaction that the customer C00010 make."
   ]
  },
  {
   "cell_type": "code",
   "execution_count": 7,
   "id": "fe14fe75",
   "metadata": {},
   "outputs": [
    {
     "data": {
      "text/plain": [
       "2"
      ]
     },
     "execution_count": 7,
     "metadata": {},
     "output_type": "execute_result"
    }
   ],
   "source": []
  },
  {
   "cell_type": "markdown",
   "id": "6bf8f076",
   "metadata": {},
   "source": [
    "What is the index of customer C00010's first transaction?"
   ]
  },
  {
   "cell_type": "code",
   "execution_count": 8,
   "id": "8bd62825",
   "metadata": {},
   "outputs": [
    {
     "data": {
      "text/plain": [
       "5"
      ]
     },
     "execution_count": 8,
     "metadata": {},
     "output_type": "execute_result"
    }
   ],
   "source": []
  },
  {
   "cell_type": "code",
   "execution_count": 10,
   "id": "6f70f135",
   "metadata": {},
   "outputs": [
    {
     "data": {
      "text/plain": [
       "25"
      ]
     },
     "execution_count": 10,
     "metadata": {},
     "output_type": "execute_result"
    }
   ],
   "source": [
    "# the index of customer C00010's second transaction\n"
   ]
  },
  {
   "cell_type": "markdown",
   "id": "bc204dfc",
   "metadata": {},
   "source": [
    "What is the revenue of C00010's first transaction? \n",
    "Note: Use index `subtotals` and also the index used in the above question."
   ]
  },
  {
   "cell_type": "code",
   "execution_count": 11,
   "id": "1544d23a",
   "metadata": {},
   "outputs": [
    {
     "data": {
      "text/plain": [
       "599.99"
      ]
     },
     "execution_count": 11,
     "metadata": {},
     "output_type": "execute_result"
    }
   ],
   "source": []
  },
  {
   "cell_type": "markdown",
   "id": "e96b04e9",
   "metadata": {},
   "source": [
    "### Print a sorted list of customer ID's.\n",
    "Use sorted() function to avoid changing the list, `custids`."
   ]
  },
  {
   "cell_type": "code",
   "execution_count": 13,
   "id": "f8af6442",
   "metadata": {},
   "outputs": [
    {
     "name": "stdout",
     "output_type": "stream",
     "text": [
      "['C00001', 'C00001', 'C00001', 'C00002', 'C00003', 'C00004', 'C00004', 'C00005', 'C00006', 'C00006', 'C00007', 'C00008', 'C00008', 'C00010', 'C00010', 'C00013', 'C00014', 'C00015', 'C00016', 'C00016', 'C00017', 'C00018', 'C00018', 'C00019', 'C00020', 'C00021', 'C00022']\n"
     ]
    }
   ],
   "source": []
  },
  {
   "cell_type": "markdown",
   "id": "cb1c3f94",
   "metadata": {},
   "source": [
    "___\n",
    "## Assignment: Nested Lists & Copying\n",
    "### Multi Order Customers\n",
    "Below are lists of transactions made by customers with multiple orders."
   ]
  },
  {
   "cell_type": "code",
   "execution_count": 14,
   "id": "a1344c77",
   "metadata": {},
   "outputs": [],
   "source": [
    "orders_c00001 = [1799.94, 29.98, 99.99]\n",
    "orders_c00004 = [15.98, 119.99]\n",
    "orders_c00006 = [24.99, 24.99]\n",
    "orders_c00008 = [649.99, 99.99]\n",
    "orders_c00010 = [599.99, 399.97]"
   ]
  },
  {
   "cell_type": "markdown",
   "id": "40b2bc3f",
   "metadata": {},
   "source": [
    "### VIP List \n",
    "Create a nested list where each element is one of the customer transaction lists above, called `viplist`"
   ]
  },
  {
   "cell_type": "code",
   "execution_count": 15,
   "id": "a4429da2",
   "metadata": {},
   "outputs": [
    {
     "data": {
      "text/plain": [
       "[[1799.94, 29.98, 99.99],\n",
       " [15.98, 119.99],\n",
       " [24.99, 24.99],\n",
       " [649.99, 99.99],\n",
       " [599.99, 399.97]]"
      ]
     },
     "execution_count": 15,
     "metadata": {},
     "output_type": "execute_result"
    }
   ],
   "source": [
    "viplist=[orders_c00001, orders_c00004, orders_c00006, orders_c00008, orders_c00010]\n",
    "viplist"
   ]
  },
  {
   "cell_type": "markdown",
   "id": "a5770ad6",
   "metadata": {},
   "source": [
    "Report the 2nd and 3rd transactions made by the customer C00001."
   ]
  },
  {
   "cell_type": "code",
   "execution_count": 16,
   "id": "c74939a9",
   "metadata": {},
   "outputs": [
    {
     "data": {
      "text/plain": [
       "[29.98, 99.99]"
      ]
     },
     "execution_count": 16,
     "metadata": {},
     "output_type": "execute_result"
    }
   ],
   "source": []
  },
  {
   "cell_type": "markdown",
   "id": "04cc3443",
   "metadata": {},
   "source": [
    "### Revenue Adjusted List\n",
    "Make a copy of the `viplist` so that any changes will not be reflected in the original.\n",
    "Name the copy `alist`."
   ]
  },
  {
   "cell_type": "code",
   "execution_count": 18,
   "id": "7c63270a",
   "metadata": {},
   "outputs": [
    {
     "data": {
      "text/plain": [
       "[[1799.94, 29.98, 99.99],\n",
       " [15.98, 119.99],\n",
       " [24.99, 24.99],\n",
       " [649.99, 99.99],\n",
       " [599.99, 399.97]]"
      ]
     },
     "execution_count": 18,
     "metadata": {},
     "output_type": "execute_result"
    }
   ],
   "source": [
    "# Use the .copy() method to change the entire nested list\n",
    "\n",
    "alist"
   ]
  },
  {
   "cell_type": "markdown",
   "id": "37e3d0fa",
   "metadata": {},
   "source": [
    "For the copied list, change both of customer C00004's transaction values to 0.0."
   ]
  },
  {
   "cell_type": "code",
   "execution_count": 19,
   "id": "08c031a9",
   "metadata": {},
   "outputs": [
    {
     "data": {
      "text/plain": [
       "[[1799.94, 29.98, 99.99],\n",
       " [0.0, 0.0],\n",
       " [24.99, 24.99],\n",
       " [649.99, 99.99],\n",
       " [599.99, 399.97]]"
      ]
     },
     "execution_count": 19,
     "metadata": {},
     "output_type": "execute_result"
    }
   ],
   "source": [
    "\n",
    "alist"
   ]
  },
  {
   "cell_type": "code",
   "execution_count": 20,
   "id": "46a63329",
   "metadata": {},
   "outputs": [
    {
     "data": {
      "text/plain": [
       "[[1799.94, 29.98, 99.99],\n",
       " [15.98, 119.99],\n",
       " [24.99, 24.99],\n",
       " [649.99, 99.99],\n",
       " [599.99, 399.97]]"
      ]
     },
     "execution_count": 20,
     "metadata": {},
     "output_type": "execute_result"
    }
   ],
   "source": [
    "# Confirm the original list has not been changed\n",
    "viplist"
   ]
  },
  {
   "cell_type": "markdown",
   "id": "dbdbaddc",
   "metadata": {},
   "source": [
    "___\n",
    "## Assignment: Tuples\n",
    "### Sales Tax\n",
    "Calculate the sales taxes for any customer who made 3 transactions in `m` below (Note: Only customer C00001). \n",
    "\n",
    "Run below cell to create the list."
   ]
  },
  {
   "cell_type": "code",
   "execution_count": 21,
   "id": "370867c7",
   "metadata": {},
   "outputs": [],
   "source": [
    "m = [\n",
    "    [1799.94, 29.98, 99.99],\n",
    "    [15.98, 119.99],\n",
    "    [24.99, 24.99],\n",
    "    [649.99, 99.99],\n",
    "    [599.99, 399.97]\n",
    "]"
   ]
  },
  {
   "cell_type": "markdown",
   "id": "5f663290",
   "metadata": {},
   "source": [
    "Create a tuple from the 1st element in the `m`.\n",
    "\n",
    "Unpack this tuple into the variables `t1`, `t2`, and `t3`.\n",
    "\n",
    "Once the transactions are separated, calculate the tax of 0.08 rounded to 2 decimals and print it."
   ]
  },
  {
   "cell_type": "code",
   "execution_count": 22,
   "id": "916dd3e8",
   "metadata": {},
   "outputs": [
    {
     "name": "stdout",
     "output_type": "stream",
     "text": [
      "144.0\n",
      "2.4\n",
      "8.0\n"
     ]
    }
   ],
   "source": [
    "\n",
    "print(round(t1*0.08,2))\n",
    "print(round(t2*0.08,2))\n",
    "print(round(t3*0.08,2))"
   ]
  },
  {
   "cell_type": "markdown",
   "id": "07170f89",
   "metadata": {},
   "source": [
    "___\n",
    "## Assignment: Ranges\n",
    "### Customer Promotions\n",
    "Below are some generation of a few different sequences to represent lucky numbers for customers to receive gifts in keychain, coffee mug, or beanie.\n",
    "\n",
    "1st sequence generation: Even integers between 1 and 10 to represent those customers who will be receiving coffee mugs."
   ]
  },
  {
   "cell_type": "code",
   "execution_count": 23,
   "id": "ac3c5f13",
   "metadata": {},
   "outputs": [
    {
     "data": {
      "text/plain": [
       "[2, 4, 6, 8, 10]"
      ]
     },
     "execution_count": 23,
     "metadata": {},
     "output_type": "execute_result"
    }
   ],
   "source": []
  },
  {
   "cell_type": "markdown",
   "id": "cb4a179f",
   "metadata": {},
   "source": [
    "2nd sequence generation: Odd integers from 1 and 10 to represent those customers who will be receiving keychains."
   ]
  },
  {
   "cell_type": "code",
   "execution_count": 24,
   "id": "bd94a2dc",
   "metadata": {},
   "outputs": [
    {
     "data": {
      "text/plain": [
       "[1, 3, 5, 7, 9]"
      ]
     },
     "execution_count": 24,
     "metadata": {},
     "output_type": "execute_result"
    }
   ],
   "source": []
  },
  {
   "cell_type": "markdown",
   "id": "7351be4d",
   "metadata": {},
   "source": [
    "3rd sequence generation: Integers containing multiples of 7 from 1 to 100 to represent those customers who will be receiving a beanie."
   ]
  },
  {
   "cell_type": "code",
   "execution_count": 25,
   "id": "09095c76",
   "metadata": {},
   "outputs": [
    {
     "data": {
      "text/plain": [
       "[7, 14, 21, 28, 35, 42, 49, 56, 63, 70, 77, 84, 91, 98]"
      ]
     },
     "execution_count": 25,
     "metadata": {},
     "output_type": "execute_result"
    }
   ],
   "source": []
  },
  {
   "cell_type": "markdown",
   "id": "c85f36ef",
   "metadata": {},
   "source": [
    "___"
   ]
  }
 ],
 "metadata": {
  "kernelspec": {
   "display_name": "Python 3 (ipykernel)",
   "language": "python",
   "name": "python3"
  },
  "language_info": {
   "codemirror_mode": {
    "name": "ipython",
    "version": 3
   },
   "file_extension": ".py",
   "mimetype": "text/x-python",
   "name": "python",
   "nbconvert_exporter": "python",
   "pygments_lexer": "ipython3",
   "version": "3.12.3"
  }
 },
 "nbformat": 4,
 "nbformat_minor": 5
}
