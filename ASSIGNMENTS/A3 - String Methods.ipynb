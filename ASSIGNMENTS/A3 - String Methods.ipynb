{
 "cells": [
  {
   "cell_type": "markdown",
   "id": "79de4b2c",
   "metadata": {},
   "source": [
    "# **String Methods**\n",
    "## Assignment: String Indexing\n",
    "### Password Retrieval\n",
    "* Create a variable, `a` by using any one letter from each text message of **`your choice`**"
   ]
  },
  {
   "cell_type": "code",
   "execution_count": 693,
   "id": "b5f889bd",
   "metadata": {},
   "outputs": [
    {
     "name": "stdout",
     "output_type": "stream",
     "text": [
      "friend\n"
     ]
    }
   ],
   "source": [
    "text1 = 'Your friend Mark'\n",
    "text2 = 'was'\n",
    "text3 = 'having'\n",
    "text4 = 'a great day'\n",
    "text5 = 'on the mountain'\n",
    "\n",
    "# a=text5[7:12:1]\n",
    "# a=text5[7:12] is the same cause increment is 1 by default\n",
    "\n",
    "# print(f'{a}')\n",
    "\n",
    "#slice text\n",
    "\n",
    "slice7 = text1[5:11]  # Slicing from index 5 to 10\n",
    "print(f'{slice7}')\n"
   ]
  },
  {
   "cell_type": "code",
   "execution_count": 694,
   "id": "4854f6a6",
   "metadata": {},
   "outputs": [
    {
     "name": "stdout",
     "output_type": "stream",
     "text": [
      "Mark is my friend 😁\n"
     ]
    }
   ],
   "source": [
    "# Combine the letters in to a word and assign to the variable 'a'\n",
    "\n",
    "a=text1[12:16:1]\n",
    "\n",
    "print(f'{a} is my friend 😁')\n"
   ]
  },
  {
   "cell_type": "markdown",
   "id": "ba5b6ed2",
   "metadata": {},
   "source": [
    "___\n",
    "## Assignment: String Slicing\n",
    "Quotation mark wrapping in print(): Run the cell to create the string.\n",
    "### I said: \"Let's go to bali\""
   ]
  },
  {
   "cell_type": "code",
   "execution_count": 695,
   "id": "e2424de7",
   "metadata": {},
   "outputs": [
    {
     "name": "stdout",
     "output_type": "stream",
     "text": [
      "I said: \"Let's go to bali\"\n"
     ]
    }
   ],
   "source": [
    "print('''I said: \"Let's go to bali\"''')"
   ]
  },
  {
   "cell_type": "markdown",
   "id": "0fce52d9",
   "metadata": {},
   "source": [
    "Run the first cell below, assigned to `bbb`."
   ]
  },
  {
   "cell_type": "code",
   "execution_count": 696,
   "id": "8b040ee7",
   "metadata": {},
   "outputs": [],
   "source": [
    "bbb = '''I love skiing. It's my favorite hobby.\n",
    "Some people say, \"It's not a hobby, it's life.\"\n",
    "'''"
   ]
  },
  {
   "cell_type": "markdown",
   "id": "bb36b14a",
   "metadata": {},
   "source": [
    "### First Draft\n",
    "\n",
    "Please create the message 'I love skiing. It's my life.' by slicing  `bbb`.\n",
    "\n",
    "Assign this message to a variable called `st`, and print it."
   ]
  },
  {
   "cell_type": "code",
   "execution_count": 697,
   "id": "a080435f",
   "metadata": {},
   "outputs": [
    {
     "name": "stdout",
     "output_type": "stream",
     "text": [
      "I love skiing. It's my life.\"\n"
     ]
    }
   ],
   "source": [
    "st = bbb[0:23]\n",
    "\n",
    "nd=bbb[-7:-1]\n",
    "\n",
    "\n",
    "\n",
    "print(f'{st}{nd}')"
   ]
  },
  {
   "cell_type": "markdown",
   "id": "f92cc926",
   "metadata": {},
   "source": [
    "### Second Draft\n",
    "\n",
    "Shorten the message by slicing `st` down to 'I love my life!'.\n",
    "\n",
    "Add an exclamation point. Assign this message to `ccc`, and print it."
   ]
  },
  {
   "cell_type": "code",
   "execution_count": 698,
   "id": "8f430c81",
   "metadata": {},
   "outputs": [
    {
     "name": "stdout",
     "output_type": "stream",
     "text": [
      "I love my life.\n"
     ]
    }
   ],
   "source": [
    "ccc = st[0:6]\n",
    "print(f'{ccc} my life.')   # i am lazy 😁"
   ]
  },
  {
   "cell_type": "markdown",
   "id": "63935903",
   "metadata": {},
   "source": [
    "___\n",
    "## Assignment: String Length\n",
    "\n",
    "Based the five text message below, the code needs to be cracked.\n",
    "\n",
    "The length of each message represents the letter in the alphabet for each character in the password. "
   ]
  },
  {
   "cell_type": "code",
   "execution_count": 699,
   "id": "596af3c4",
   "metadata": {},
   "outputs": [
    {
     "name": "stdout",
     "output_type": "stream",
     "text": [
      "Cracked password: pknlv\n",
      "Test pass: bbc\n"
     ]
    }
   ],
   "source": [
    "a = 'abcdefghijklmnopqrstuvwxyz'\n",
    "m1 = 'summer vs winter'\n",
    "m2 = 'hot vs cold'\n",
    "m3 = 'climate change'\n",
    "m4 = 'dry vs humid'\n",
    "m5 = 'Cold climate is better'\n",
    "\n",
    "\n",
    "l1 = len(m1)  \n",
    "l2 = len(m2)  \n",
    "l3 = len(m3)  \n",
    "l4 = len(m4)  \n",
    "l5 = len(m5)  \n",
    "\n",
    "#\n",
    "p = a[l1-1] + a[l2-1] + a[l3-1] + a[l4-1] + a[l5-1]\n",
    "\n",
    "# Print the cracked password\n",
    "print(f'Cracked password: {p}')\n",
    "\n",
    "x=a[1]+a[1]+a[2] #bbc password\n",
    "\n",
    "print(f'Test pass: {x}')\n"
   ]
  },
  {
   "cell_type": "markdown",
   "id": "1652947d",
   "metadata": {},
   "source": [
    "In the cell below, combine the characters retrieved using the length function into a single string, and assign that to `p`. Then print the password."
   ]
  },
  {
   "cell_type": "markdown",
   "id": "42a440a8",
   "metadata": {},
   "source": [
    "___\n",
    "## Assignment: More string methods\n",
    "Run the following five text messages."
   ]
  },
  {
   "cell_type": "code",
   "execution_count": 700,
   "id": "84d276d1",
   "metadata": {},
   "outputs": [],
   "source": [
    "text1 = '         Our friend, Minji'\n",
    "text2 = 'was'\n",
    "text3 = 'having'\n",
    "text4 = 'a NICE day'\n",
    "text5 = 'on the MOUNTAIN'"
   ]
  },
  {
   "cell_type": "markdown",
   "id": "52c8517c",
   "metadata": {},
   "source": [
    "Combine the messages into a single string, then assigned to `ft`."
   ]
  },
  {
   "cell_type": "code",
   "execution_count": 701,
   "id": "ed40f369",
   "metadata": {},
   "outputs": [
    {
     "data": {
      "text/plain": [
       "'         Our friend, Minji was having a NICE day on the MOUNTAIN'"
      ]
     },
     "execution_count": 701,
     "metadata": {},
     "output_type": "execute_result"
    }
   ],
   "source": [
    "ft = text1 + ' ' +text2+ ' ' +text3+ ' ' +text4+ ' ' +text5 \n",
    "\n",
    " \n",
    "# text1.find('end')  --- find the index number -- COOL feature\n",
    "\n",
    "ft"
   ]
  },
  {
   "cell_type": "markdown",
   "id": "95f32796",
   "metadata": {},
   "source": [
    "Remove the leading spaces and make it all lower cases. "
   ]
  },
  {
   "cell_type": "code",
   "execution_count": 702,
   "id": "fa72271f",
   "metadata": {},
   "outputs": [
    {
     "name": "stdout",
     "output_type": "stream",
     "text": [
      "our friend, minji was having a nice day on the mountain\n"
     ]
    }
   ],
   "source": [
    "ft_no_lead=ft.strip(         )\n",
    "fix = print(f'{ft_no_lead.lower()}')\n",
    "fix"
   ]
  },
  {
   "cell_type": "markdown",
   "id": "e68de193",
   "metadata": {},
   "source": [
    "Change the portion of the message that reads 'on the MOUNTAIN' to 'at the library'."
   ]
  },
  {
   "cell_type": "code",
   "execution_count": 703,
   "id": "59679d3b",
   "metadata": {},
   "outputs": [
    {
     "data": {
      "text/plain": [
       "'Our friend, Minji was having a NICE day at the library'"
      ]
     },
     "execution_count": 703,
     "metadata": {},
     "output_type": "execute_result"
    }
   ],
   "source": [
    "# Method 1: .replace()\n",
    "nt = ft_no_lead.replace('on the MOUNTAIN','at the library')\n",
    "nt\n"
   ]
  },
  {
   "cell_type": "code",
   "execution_count": 704,
   "id": "a73d1ec6",
   "metadata": {},
   "outputs": [
    {
     "data": {
      "text/plain": [
       "40"
      ]
     },
     "execution_count": 704,
     "metadata": {},
     "output_type": "execute_result"
    }
   ],
   "source": [
    "# Method 2: Slice .find()\n",
    "nt = ft_no_lead.find('on the MOUNTAIN')\n",
    "# nt = ft_no_lead.replace(40,'at the library')\n",
    "nt"
   ]
  },
  {
   "cell_type": "markdown",
   "id": "f31a3912",
   "metadata": {},
   "source": [
    "The string counting method: [here](https://docs.python.org/3/library/stdtypes.html#string-methods).\n",
    "\n",
    "Apply this method to count the number of spaces and add 1. "
   ]
  },
  {
   "cell_type": "code",
   "execution_count": 705,
   "id": "25762390",
   "metadata": {},
   "outputs": [
    {
     "ename": "SyntaxError",
     "evalue": "invalid syntax (4188735812.py, line 1)",
     "output_type": "error",
     "traceback": [
      "\u001b[1;36m  Cell \u001b[1;32mIn[705], line 1\u001b[1;36m\u001b[0m\n\u001b[1;33m    word_count =\u001b[0m\n\u001b[1;37m                 ^\u001b[0m\n\u001b[1;31mSyntaxError\u001b[0m\u001b[1;31m:\u001b[0m invalid syntax\n"
     ]
    }
   ],
   "source": [
    "word_count = \n",
    "word_count"
   ]
  },
  {
   "cell_type": "markdown",
   "id": "d5940548",
   "metadata": {},
   "source": [
    "___\n",
    "## Assignment: F-Strings\n",
    "### Price Display Message\n",
    "Using f-strings, print 'The *product* costs $*price*.' for each of the price/product combinations below (The print statement should be identical for both)."
   ]
  },
  {
   "cell_type": "code",
   "execution_count": null,
   "id": "15008f52",
   "metadata": {},
   "outputs": [],
   "source": [
    "price = 499.99\n",
    "product = 'snowboard'\n"
   ]
  },
  {
   "cell_type": "code",
   "execution_count": null,
   "id": "02242dbd",
   "metadata": {},
   "outputs": [],
   "source": [
    "price = 19.99\n",
    "product = 'scarf'\n"
   ]
  },
  {
   "cell_type": "markdown",
   "id": "f0a2fd61",
   "metadata": {},
   "source": [
    "___"
   ]
  }
 ],
 "metadata": {
  "kernelspec": {
   "display_name": "Python 3 (ipykernel)",
   "language": "python",
   "name": "python3"
  },
  "language_info": {
   "codemirror_mode": {
    "name": "ipython",
    "version": 3
   },
   "file_extension": ".py",
   "mimetype": "text/x-python",
   "name": "python",
   "nbconvert_exporter": "python",
   "pygments_lexer": "ipython3",
   "version": "3.12.4"
  }
 },
 "nbformat": 4,
 "nbformat_minor": 5
}
