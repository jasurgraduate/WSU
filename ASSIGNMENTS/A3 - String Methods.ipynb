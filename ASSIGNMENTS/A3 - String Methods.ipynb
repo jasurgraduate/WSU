{
 "cells": [
  {
   "cell_type": "markdown",
   "id": "79de4b2c",
   "metadata": {},
   "source": [
    "# **String Methods**\n",
    "## Assignment: String Indexing\n",
    "### Password Retrieval\n",
    "* Create a variable, `a` by using any one letter from each text message of **`your choice`**"
   ]
  },
  {
   "cell_type": "code",
   "execution_count": 2,
   "id": "b5f889bd",
   "metadata": {},
   "outputs": [],
   "source": [
    "text1 = 'Your friend Mark'\n",
    "text2 = 'was'\n",
    "text3 = 'having'\n",
    "text4 = 'a great day'\n",
    "text5 = 'on the mountain'"
   ]
  },
  {
   "cell_type": "code",
   "execution_count": 4,
   "id": "4854f6a6",
   "metadata": {},
   "outputs": [
    {
     "name": "stdout",
     "output_type": "stream",
     "text": [
      "The secret password is fan\n"
     ]
    }
   ],
   "source": [
    "# Combine the letters in to a word and assign to the variable 'a'\n"
   ]
  },
  {
   "cell_type": "markdown",
   "id": "ba5b6ed2",
   "metadata": {},
   "source": [
    "___\n",
    "## Assignment: String Slicing\n",
    "Quotation mark wrapping in print(): Run the cell to create the string.\n",
    "### I said: \"Let's go to bali\""
   ]
  },
  {
   "cell_type": "code",
   "execution_count": 5,
   "id": "e2424de7",
   "metadata": {},
   "outputs": [
    {
     "name": "stdout",
     "output_type": "stream",
     "text": [
      "I said: \"Let's go to bali\"\n"
     ]
    }
   ],
   "source": [
    "print('''I said: \"Let's go to bali\"''')"
   ]
  },
  {
   "cell_type": "markdown",
   "id": "0fce52d9",
   "metadata": {},
   "source": [
    "Run the first cell below, assigned to `bbb`."
   ]
  },
  {
   "cell_type": "code",
   "execution_count": 6,
   "id": "8b040ee7",
   "metadata": {},
   "outputs": [],
   "source": [
    "bbb = '''I love skiing. It's my favorite hobby.\n",
    "Some people say, \"It's not a hobby, it's life.\"\n",
    "'''"
   ]
  },
  {
   "cell_type": "markdown",
   "id": "bb36b14a",
   "metadata": {},
   "source": [
    "### First Draft\n",
    "\n",
    "Please create the message 'I love skiing. It's my life.' by slicing  `bbb`.\n",
    "\n",
    "Assign this message to a variable called `st`, and print it."
   ]
  },
  {
   "cell_type": "code",
   "execution_count": 7,
   "id": "a080435f",
   "metadata": {},
   "outputs": [
    {
     "name": "stdout",
     "output_type": "stream",
     "text": [
      "I love skiing. It's my life.\n"
     ]
    }
   ],
   "source": [
    "st = \n",
    "print(st)"
   ]
  },
  {
   "cell_type": "markdown",
   "id": "f92cc926",
   "metadata": {},
   "source": [
    "### Second Draft\n",
    "\n",
    "Shorten the message by slicing `st` down to 'I love my life!'.\n",
    "\n",
    "Add an exclamation point. Assign this message to `ccc`, and print it."
   ]
  },
  {
   "cell_type": "code",
   "execution_count": 8,
   "id": "8f430c81",
   "metadata": {},
   "outputs": [
    {
     "name": "stdout",
     "output_type": "stream",
     "text": [
      "I love my life!\n"
     ]
    }
   ],
   "source": [
    "ccc = \n",
    "print(ccc)"
   ]
  },
  {
   "cell_type": "markdown",
   "id": "63935903",
   "metadata": {},
   "source": [
    "___\n",
    "## Assignment: String Length\n",
    "\n",
    "Based the five text message below, the code needs to be cracked.\n",
    "\n",
    "The length of each message represents the letter in the alphabet for each character in the password. "
   ]
  },
  {
   "cell_type": "code",
   "execution_count": 19,
   "id": "596af3c4",
   "metadata": {},
   "outputs": [],
   "source": [
    "a = 'abcdefghijklmnopqrstuvwxyz'\n",
    "m1 = 'summer vs winter'\n",
    "m2 = 'hot vs cold'\n",
    "m3 = 'climate change'\n",
    "m4 = 'dry vs humid'\n",
    "m5 = 'Cold climate is better'"
   ]
  },
  {
   "cell_type": "markdown",
   "id": "1652947d",
   "metadata": {},
   "source": [
    "In the cell below, combine the characters retrieved using the length function into a single string, and assign that to `p`. Then print the password."
   ]
  },
  {
   "cell_type": "code",
   "execution_count": 21,
   "id": "cfbda6a3",
   "metadata": {},
   "outputs": [
    {
     "data": {
      "text/plain": [
       "'qlomw'"
      ]
     },
     "execution_count": 21,
     "metadata": {},
     "output_type": "execute_result"
    }
   ],
   "source": [
    "p = \n",
    "p"
   ]
  },
  {
   "cell_type": "markdown",
   "id": "42a440a8",
   "metadata": {},
   "source": [
    "___\n",
    "## Assignment: More string methods\n",
    "Run the following five text messages."
   ]
  },
  {
   "cell_type": "code",
   "execution_count": 17,
   "id": "84d276d1",
   "metadata": {},
   "outputs": [],
   "source": [
    "text1 = '         Our friend, Minji'\n",
    "text2 = 'was'\n",
    "text3 = 'having'\n",
    "text4 = 'a NICE day'\n",
    "text5 = 'on the MOUNTAIN'"
   ]
  },
  {
   "cell_type": "markdown",
   "id": "52c8517c",
   "metadata": {},
   "source": [
    "Combine the messages into a single string, then assigned to `ft`."
   ]
  },
  {
   "cell_type": "code",
   "execution_count": 18,
   "id": "ed40f369",
   "metadata": {},
   "outputs": [
    {
     "data": {
      "text/plain": [
       "'         Our friend, Minji was having a NICE day on the MOUNTAIN'"
      ]
     },
     "execution_count": 18,
     "metadata": {},
     "output_type": "execute_result"
    }
   ],
   "source": [
    "ft = \n",
    "ft"
   ]
  },
  {
   "cell_type": "markdown",
   "id": "95f32796",
   "metadata": {},
   "source": [
    "Remove the leading spaces and make it all lower cases. "
   ]
  },
  {
   "cell_type": "code",
   "execution_count": 19,
   "id": "fa72271f",
   "metadata": {},
   "outputs": [
    {
     "data": {
      "text/plain": [
       "'our friend, minji was having a nice day on the mountain'"
      ]
     },
     "execution_count": 19,
     "metadata": {},
     "output_type": "execute_result"
    }
   ],
   "source": [
    "fix = \n",
    "fix"
   ]
  },
  {
   "cell_type": "markdown",
   "id": "e68de193",
   "metadata": {},
   "source": [
    "Change the portion of the message that reads 'on the MOUNTAIN' to 'at the library'."
   ]
  },
  {
   "cell_type": "code",
   "execution_count": 21,
   "id": "59679d3b",
   "metadata": {},
   "outputs": [
    {
     "data": {
      "text/plain": [
       "'         Our friend, Minji was having a NICE day at the library'"
      ]
     },
     "execution_count": 21,
     "metadata": {},
     "output_type": "execute_result"
    }
   ],
   "source": [
    "# Method 1: .replace()\n",
    "nt = \n",
    "nt"
   ]
  },
  {
   "cell_type": "code",
   "execution_count": 23,
   "id": "a73d1ec6",
   "metadata": {},
   "outputs": [
    {
     "data": {
      "text/plain": [
       "'         Our friend, Minji was having a NICE day at the library'"
      ]
     },
     "execution_count": 23,
     "metadata": {},
     "output_type": "execute_result"
    }
   ],
   "source": [
    "# Method 2: Slice .find()\n",
    "nt = \n",
    "nt"
   ]
  },
  {
   "cell_type": "markdown",
   "id": "f31a3912",
   "metadata": {},
   "source": [
    "The string counting method: [here](https://docs.python.org/3/library/stdtypes.html#string-methods).\n",
    "\n",
    "Apply this method to count the number of spaces and add 1. "
   ]
  },
  {
   "cell_type": "code",
   "execution_count": 25,
   "id": "25762390",
   "metadata": {},
   "outputs": [
    {
     "data": {
      "text/plain": [
       "20"
      ]
     },
     "execution_count": 25,
     "metadata": {},
     "output_type": "execute_result"
    }
   ],
   "source": [
    "word_count = \n",
    "word_count"
   ]
  },
  {
   "cell_type": "markdown",
   "id": "d5940548",
   "metadata": {},
   "source": [
    "___\n",
    "## Assignment: F-Strings\n",
    "### Price Display Message\n",
    "Using f-strings, print 'The *product* costs $*price*.' for each of the price/product combinations below (The print statement should be identical for both)."
   ]
  },
  {
   "cell_type": "code",
   "execution_count": 26,
   "id": "15008f52",
   "metadata": {},
   "outputs": [
    {
     "name": "stdout",
     "output_type": "stream",
     "text": [
      "The snowboard costs $499.99.\n"
     ]
    }
   ],
   "source": [
    "price = 499.99\n",
    "product = 'snowboard'\n"
   ]
  },
  {
   "cell_type": "code",
   "execution_count": 27,
   "id": "02242dbd",
   "metadata": {},
   "outputs": [
    {
     "name": "stdout",
     "output_type": "stream",
     "text": [
      "The scarf costs $19.99.\n"
     ]
    }
   ],
   "source": [
    "price = 19.99\n",
    "product = 'scarf'\n"
   ]
  },
  {
   "cell_type": "markdown",
   "id": "f0a2fd61",
   "metadata": {},
   "source": [
    "___"
   ]
  }
 ],
 "metadata": {
  "kernelspec": {
   "display_name": "Python 3 (ipykernel)",
   "language": "python",
   "name": "python3"
  },
  "language_info": {
   "codemirror_mode": {
    "name": "ipython",
    "version": 3
   },
   "file_extension": ".py",
   "mimetype": "text/x-python",
   "name": "python",
   "nbconvert_exporter": "python",
   "pygments_lexer": "ipython3",
   "version": "3.12.4"
  }
 },
 "nbformat": 4,
 "nbformat_minor": 5
}
