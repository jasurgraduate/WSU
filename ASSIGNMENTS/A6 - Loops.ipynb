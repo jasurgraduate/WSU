{
 "cells": [
  {
   "cell_type": "markdown",
   "id": "d5858f7d",
   "metadata": {},
   "source": [
    "# **Loops**\n",
    "## Assignment: For Loops\n",
    "### Applying Sales Tax\n",
    "Last weekend the system went down and there was no calculator on site, so the customers have been told that taxes will be charged at a later stage.  The transactions are below."
   ]
  },
  {
   "cell_type": "code",
   "execution_count": 95,
   "id": "ecf7bfd9",
   "metadata": {},
   "outputs": [
    {
     "data": {
      "text/plain": [
       "[15.98, 899.97, 799.97, 117.96, 5.99, 599.99, 24.99, 1799.94, 99.99]"
      ]
     },
     "execution_count": 95,
     "metadata": {},
     "output_type": "execute_result"
    }
   ],
   "source": [
    "subtotals = [15.98, 899.97, 799.97, 117.96, 5.99, 599.99, 24.99, 1799.94, 99.99]\n",
    "\n",
    "subtotals"
   ]
  },
  {
   "cell_type": "code",
   "execution_count": 96,
   "id": "581eb344",
   "metadata": {},
   "outputs": [
    {
     "name": "stdout",
     "output_type": "stream",
     "text": [
      "Hey!\n",
      "Hey!\n",
      "Hey!\n",
      "Hey!\n",
      "Aha!\n",
      "Yes!\n",
      "4\n",
      "Count: 0\n",
      "Count: 1\n",
      "Count: 2\n",
      "Count: 3\n",
      "Count me: 5\n",
      "Count me: 4\n",
      "Count me: 3\n",
      "Count me: 2\n",
      "Count me: 1\n",
      "Count me: 0\n"
     ]
    }
   ],
   "source": [
    "a = [1, 6]\n",
    "\n",
    "\n",
    "while a[0] < 5:\n",
    "    print('Hey!')\n",
    "    a[0] += 1  \n",
    "else:\n",
    "    print('Aha!')\n",
    "\n",
    "\n",
    "while True:\n",
    "    print(f'Yes!')\n",
    "    break\n",
    "\n",
    "#new style\n",
    "c=2\n",
    "c+=1\n",
    "c=c+1\n",
    "\n",
    "print(f'{c}')\n",
    "\n",
    "w=0\n",
    "while w<=3:\n",
    "    print(f'Count: {w}')\n",
    "    w+=1\n",
    "\n",
    "\n",
    "q=5\n",
    "while q>=0:\n",
    "    print(f'Count me: {q}')\n",
    "    q-=1"
   ]
  },
  {
   "cell_type": "markdown",
   "id": "e30ee503",
   "metadata": {},
   "source": [
    "Apply sales tax to all of the transactions.\n",
    "\n",
    "The tax rate is 8%. \n",
    "\n",
    "After the taxes are calculated, add them to the transaction subtotals and calculate the the total invoice value.\n",
    "\n",
    "The code below should produce two lists:\n",
    "* `taxes`:The first should be a list of the tax amounts on each transaction, rounded to the nearest 0.01.\n",
    "* `totals`: The second should be a list where each element is subtotal[i] + tax[i]"
   ]
  },
  {
   "cell_type": "code",
   "execution_count": null,
   "id": "70a25441",
   "metadata": {},
   "outputs": [
    {
     "name": "stdout",
     "output_type": "stream",
     "text": [
      "[0.0, 0.08, 0.16, 0.24, 0.32, 0.4, 0.48, 0.56, 0.64]\n",
      "[0.0, 1.08, 2.16, 3.24, 4.32, 5.4, 6.48, 7.56, 8.64]\n"
     ]
    }
   ],
   "source": [
    "subtotals = [15.98, 899.97, 799.97, 117.96, 5.99, 599.99, 24.99, 1799.94, 99.99]\n",
    "taxes = []\n",
    "totals = []\n",
    "\n",
    "\n",
    "# Develop a for loop code to calculate the tax and totals\n",
    "# tax = round(subtotal * 0.08, 2)\n",
    "# total = round(subtotal + tax, 2)\n",
    "\n",
    "# for price in range(len(subtotals)):\n",
    "\n",
    "\n",
    "for price in range(len(subtotals)):\n",
    "    tax = round(price * 0.08, 2)  \n",
    "    taxes.append(tax)  \n",
    "\n",
    "\n",
    "    total = round(price + tax, 2)  \n",
    "    totals.append(total)\n",
    "\n",
    "print(taxes)\n",
    "print(totals)"
   ]
  },
  {
   "cell_type": "markdown",
   "id": "21d1666f",
   "metadata": {},
   "source": [
    "___\n",
    "## Assignment: Enumerate\n",
    "### Sales Tax by State\n",
    "The loop from above needs to be modify to account for various tax rates in different states. Below is a list containing the location of each purchase. The transaction `subtotal[i]` took place at `loc[i]`."
   ]
  },
  {
   "cell_type": "code",
   "execution_count": 98,
   "id": "ce4aed77",
   "metadata": {},
   "outputs": [],
   "source": [
    "subtotals = [15.98, 899.97, 799.97, 117.96, 5.99, 599.99, 24.99, 1799.94, 99.99]\n",
    "loc = ['Sun Valley', 'Stowe', 'Mammoth', 'Stowe', 'Sun Valley', 'Mammoth','Mammoth', 'Mammoth', 'Sun Valley']"
   ]
  },
  {
   "cell_type": "markdown",
   "id": "ccef3304",
   "metadata": {},
   "source": [
    "The following tax rates should be applied for each location:\n",
    "* Sun Valley: 8%\n",
    "* Stowe: 6%\n",
    "* Mammoth: 7.75%"
   ]
  },
  {
   "cell_type": "code",
   "execution_count": 130,
   "id": "e57687ea",
   "metadata": {},
   "outputs": [
    {
     "name": "stdout",
     "output_type": "stream",
     "text": [
      "[]\n",
      "[9.28, 62.0, 70.0, 15.08, 8.48, 54.5, 9.94, 147.5, 16.0]\n",
      "For Sun Valley: [1.28, 0.48, 8.0]\n",
      "For Stowe: [54.0, 7.08]\n",
      "For Mammoth: [62.0, 46.5, 1.94, 139.5]\n"
     ]
    }
   ],
   "source": [
    "subtotals = [15.98, 899.97, 799.97, 117.96, 5.99, 599.99, 24.99, 1799.94, 99.99]\n",
    "loc = ['Sun Valley', 'Stowe', 'Mammoth', 'Stowe', 'Sun Valley', 'Mammoth','Mammoth', 'Mammoth', 'Sun Valley']\n",
    "\n",
    "taxes = []\n",
    "totals = []\n",
    "\n",
    "taxes_Sun = []\n",
    "taxes_Stowe = []\n",
    "taxes_Mammoth = []\n",
    "\n",
    "for index, element in enumerate(subtotals):\n",
    "    if loc[index]=='Sun Valley':\n",
    "        tax=round(element*0.08,2)\n",
    "        taxes_Sun.append(tax)\n",
    "        total = round(price + tax, 2)  \n",
    "        totals.append(total)\n",
    "        \n",
    "    elif loc[index]=='Stowe':\n",
    "        tax=round(element*0.06,2)\n",
    "        taxes_Stowe.append(tax)\n",
    "        total = round(price + tax, 2)  \n",
    "        totals.append(total)\n",
    "\n",
    "    elif loc[index]=='Mammoth':\n",
    "        #or simply use else:\n",
    "        tax=round(element*0.0775,2)\n",
    "        taxes_Mammoth.append(tax)\n",
    "        total = round(price + tax, 2)  \n",
    "        totals.append(total)\n",
    "        \n",
    "\n",
    "print(taxes)\n",
    "print(totals)\n",
    "\n",
    "print(f'For Sun Valley: {taxes_Sun}')\n",
    "print(f'For Stowe: {taxes_Stowe}')\n",
    "print(f'For Mammoth: {taxes_Mammoth}')"
   ]
  },
  {
   "cell_type": "markdown",
   "id": "b7548cff",
   "metadata": {},
   "source": [
    "___\n",
    "## Assignment: While Loops\n",
    "### Calculate Projected Inventory for Each Month\n",
    "\n",
    "Currently there are 686 pairs of skis in inventory, and sales of 84 each month.\n",
    "\n",
    "Write a program to keep track of monthly inventory, by subtracting 84 pairs of skis from inventory each month. \n",
    "\n",
    "The program should print 'At the end of month x, inventory = y ski pairs', where x is the number of months that has gone by and y is the remaining inventory at that month.\n",
    "\n",
    "The program should exit if inventory goes negative."
   ]
  },
  {
   "cell_type": "code",
   "execution_count": 100,
   "id": "02920e78",
   "metadata": {},
   "outputs": [
    {
     "name": "stdout",
     "output_type": "stream",
     "text": [
      "Month: 1 | Socks left: 602 🧦\n",
      "Month: 2 | Socks left: 518 🧦\n",
      "Month: 3 | Socks left: 434 🧦\n",
      "Month: 4 | Socks left: 350 🧦\n",
      "Month: 5 | Socks left: 266 🧦\n",
      "Month: 6 | Socks left: 182 🧦\n",
      "Month: 7 | Socks left: 98 🧦\n",
      "Month: 8 | Socks left: 14 🧦\n",
      "Distance: 100 | Fuel left: 40000 😁\n",
      "Distance: 200 | Fuel left: 35000 😁\n",
      "Distance: 300 | Fuel left: 30000 😁\n",
      "Distance: 400 | Fuel left: 25000 😁\n",
      "Distance: 500 | Fuel left: 20000 😁\n",
      "Distance: 600 | Fuel left: 15000 😁\n",
      "Distance: 700 | Fuel left: 10000 😁\n",
      "Distance: 800 | Fuel left: 5000 😁\n",
      "Distance: 900 | Fuel left: 0 😁\n"
     ]
    }
   ],
   "source": [
    "inv = 686\n",
    "ms = 84\n",
    "m=0\n",
    "\n",
    "\n",
    "while inv>ms:\n",
    "    \n",
    "    inv-=ms\n",
    "    m+=1\n",
    "    print(f'Month: {m} | Socks left: {inv} 🧦')\n",
    "\n",
    "dist=0\n",
    "fuel=45000\n",
    "cons=5000\n",
    "\n",
    "while fuel>=cons:\n",
    "    fuel-=cons\n",
    "    dist+=100\n",
    "    print(f'Distance: {dist} | Fuel left: {fuel} 😁')\n",
    "    "
   ]
  },
  {
   "cell_type": "markdown",
   "id": "9245c2ed",
   "metadata": {},
   "source": [
    "___\n",
    "## Assignment: Nested Loops\n",
    "### Apply Discount Prices for Multi-Order Customers\n",
    "Apply a 10% discount to every transaction in the list below.\n",
    "Assign the discounted prices to a new list: `dp`."
   ]
  },
  {
   "cell_type": "code",
   "execution_count": 101,
   "id": "c24da5d9",
   "metadata": {},
   "outputs": [
    {
     "data": {
      "text/plain": [
       "[[1799.94, 29.98, 99.99],\n",
       " [15.98, 119.99],\n",
       " [24.99, 24.99],\n",
       " [649.99, 99.99],\n",
       " [599.99, 399.97]]"
      ]
     },
     "execution_count": 101,
     "metadata": {},
     "output_type": "execute_result"
    }
   ],
   "source": [
    "orders_c00001 = [1799.94, 29.98, 99.99]\n",
    "orders_c00004 = [15.98, 119.99]\n",
    "orders_c00006 = [24.99, 24.99]\n",
    "orders_c00008 = [649.99, 99.99]\n",
    "orders_c00010 = [599.99, 399.97]\n",
    "\n",
    "m = [\n",
    "    [1799.94, 29.98, 99.99],\n",
    "    [15.98, 119.99],\n",
    "    [24.99, 24.99],\n",
    "    [649.99, 99.99],\n",
    "    [599.99, 399.97]\n",
    "]\n",
    "m"
   ]
  },
  {
   "cell_type": "code",
   "execution_count": null,
   "id": "d37444c3",
   "metadata": {},
   "outputs": [],
   "source": []
  },
  {
   "cell_type": "code",
   "execution_count": 102,
   "id": "b7b0c3f3",
   "metadata": {},
   "outputs": [
    {
     "data": {
      "text/plain": [
       "[[1619.95, 26.98, 89.99],\n",
       " [14.38, 107.99],\n",
       " [22.49, 22.49],\n",
       " [584.99, 89.99],\n",
       " [539.99, 359.97]]"
      ]
     },
     "execution_count": 102,
     "metadata": {},
     "output_type": "execute_result"
    }
   ],
   "source": [
    "dp = []\n",
    "\n",
    "for jasurs_order in m:\n",
    "    discounted_order = [round(pricecha * 0.9, 2) for pricecha in jasurs_order]\n",
    "    dp.append(discounted_order)\n",
    "# done 😁🎉\n",
    "dp\n"
   ]
  },
  {
   "cell_type": "code",
   "execution_count": 114,
   "id": "25ed4892",
   "metadata": {},
   "outputs": [
    {
     "name": "stdout",
     "output_type": "stream",
     "text": [
      "1799.94\n",
      "29.98\n",
      "99.99\n"
     ]
    },
    {
     "data": {
      "text/plain": [
       "[0, 9, 18, 27, 36]"
      ]
     },
     "execution_count": 114,
     "metadata": {},
     "output_type": "execute_result"
    }
   ],
   "source": [
    "menu= [1799.94, 29.98, 99.99]\n",
    "jasur = []\n",
    "for x in menu:\n",
    "    print(x)\n",
    "    jasur.append(round(x*3, 1))\n",
    "\n",
    "jasur\n",
    "\n",
    "\n",
    "krw = [1, 2, 3, 4, 5]\n",
    "uzs = []\n",
    "rate = 9.11\n",
    "for x in krw:\n",
    "    uzs.append(round(x*rate))\n",
    "\n",
    "uzs\n",
    "\n",
    "krw = [1, 2, 3, 4, 5]\n",
    "uzs = []\n",
    "rate = 9.11\n",
    "for x in range(len(krw)):\n",
    "    uzs.append(round(x*rate))\n",
    "\n",
    "uzs\n"
   ]
  },
  {
   "cell_type": "markdown",
   "id": "305609ac",
   "metadata": {},
   "source": [
    "___\n",
    "## Assignment: Loop Control\n",
    "### Improved Affordability Calculator.\n",
    "\n",
    "Make changes to the codes below (to make sure the affordability calculator can handle many data types without stopping since the data is messy). \n",
    "\n",
    "Make sure the following changes are included:\n",
    "* Converts the string in the list into a float. Print a warning ('String Data Detected') for any string data.\n",
    "* Skip any instances of None data type (use the continue method)\n",
    "* Remove the generic except statement ('That is not a number') to avoid processing errors.\n",
    "* Create a variable for budget = 50 to replace the hard coded value of 50."
   ]
  },
  {
   "cell_type": "code",
   "execution_count": null,
   "id": "96e60db2",
   "metadata": {},
   "outputs": [],
   "source": [
    "prices = [5.99, None, 19.99, 24.99, 0, '74.99', 99.99]\n",
    "\n",
    "# loop to calculate how many of each item I can buy\n"
   ]
  },
  {
   "cell_type": "code",
   "execution_count": null,
   "id": "f98ae237",
   "metadata": {},
   "outputs": [
    {
     "name": "stdout",
     "output_type": "stream",
     "text": [
      "Warning: String Data detected! Data converted to float.\n"
     ]
    },
    {
     "ename": "TypeError",
     "evalue": "float() argument must be a string or a real number, not 'NoneType'",
     "output_type": "error",
     "traceback": [
      "\u001b[1;31m---------------------------------------------------------------------------\u001b[0m",
      "\u001b[1;31mTypeError\u001b[0m                                 Traceback (most recent call last)",
      "Cell \u001b[1;32mIn[81], line 11\u001b[0m\n\u001b[0;32m      9\u001b[0m     \u001b[38;5;28;01mcontinue\u001b[39;00m\n\u001b[0;32m     10\u001b[0m \u001b[38;5;28;01mtry\u001b[39;00m:\n\u001b[1;32m---> 11\u001b[0m     pricecha \u001b[38;5;241m=\u001b[39m \u001b[38;5;28;43mfloat\u001b[39;49m\u001b[43m(\u001b[49m\u001b[43mpricecha\u001b[49m\u001b[43m)\u001b[49m\n\u001b[0;32m     12\u001b[0m     \u001b[38;5;28mprint\u001b[39m(\u001b[38;5;124m\"\u001b[39m\u001b[38;5;124mWarning: String Data detected! Data converted to float.\u001b[39m\u001b[38;5;124m\"\u001b[39m)\n\u001b[0;32m     13\u001b[0m \u001b[38;5;28;01mexcept\u001b[39;00m \u001b[38;5;167;01mValueError\u001b[39;00m:\n",
      "\u001b[1;31mTypeError\u001b[0m: float() argument must be a string or a real number, not 'NoneType'"
     ]
    }
   ],
   "source": [
    "prices = [5.99, None, 19.99, 24.99, 0, '74.99', 99.99]\n",
    "budget=50\n",
    "\n",
    "\n",
    "\n",
    "for pricecha in prices:\n",
    "    if price is None:\n",
    "        print(f'None value is detected')\n",
    "        continue\n",
    "    try:\n",
    "        pricecha = float(pricecha)\n",
    "        print(\"Warning: String Data detected! Data converted to float.\")\n",
    "    except ValueError:\n",
    "            print(f'Invalid data detected: {pricecha}')\n",
    "            continue\n",
    "        \n",
    "\n",
    "    \n",
    "if pricecha > 0:\n",
    "        affordable_items = int(budget // pricecha)\n",
    "        print(f\"For price ${pricecha:.2f}, you can buy {affordable_items} item(s).\")\n",
    "else:\n",
    "        print(\"Warning: Price is zero or negative, cannot buy any items.\")"
   ]
  },
  {
   "cell_type": "markdown",
   "id": "a74433d7",
   "metadata": {},
   "source": [
    "___"
   ]
  }
 ],
 "metadata": {
  "kernelspec": {
   "display_name": "Python 3 (ipykernel)",
   "language": "python",
   "name": "python3"
  },
  "language_info": {
   "codemirror_mode": {
    "name": "ipython",
    "version": 3
   },
   "file_extension": ".py",
   "mimetype": "text/x-python",
   "name": "python",
   "nbconvert_exporter": "python",
   "pygments_lexer": "ipython3",
   "version": "3.12.4"
  }
 },
 "nbformat": 4,
 "nbformat_minor": 5
}
