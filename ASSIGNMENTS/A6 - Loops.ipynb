{
 "cells": [
  {
   "cell_type": "markdown",
   "id": "d5858f7d",
   "metadata": {},
   "source": [
    "# **Loops**\n",
    "## Assignment: For Loops\n",
    "### Applying Sales Tax\n",
    "Last weekend the system went down and there was no calculator on site, so the customers have been told that taxes will be charged at a later stage.  The transactions are below."
   ]
  },
  {
   "cell_type": "code",
   "execution_count": null,
   "id": "ecf7bfd9",
   "metadata": {},
   "outputs": [],
   "source": [
    "subtotals = [15.98, 899.97, 799.97, 117.96, 5.99, 599.99, 24.99, 1799.94, 99.99]"
   ]
  },
  {
   "cell_type": "markdown",
   "id": "e30ee503",
   "metadata": {},
   "source": [
    "Apply sales tax to all of the transactions.\n",
    "\n",
    "The tax rate is 8%. \n",
    "\n",
    "After the taxes are calculated, add them to the transaction subtotals and calculate the the total invoice value.\n",
    "\n",
    "The code below should produce two lists:\n",
    "* `taxes`:The first should be a list of the tax amounts on each transaction, rounded to the nearest 0.01.\n",
    "* `totals`: The second should be a list where each element is subtotal[i] + tax[i]"
   ]
  },
  {
   "cell_type": "code",
   "execution_count": 1,
   "id": "70a25441",
   "metadata": {},
   "outputs": [
    {
     "name": "stdout",
     "output_type": "stream",
     "text": [
      "[1.28, 72.0, 64.0, 9.44, 0.48, 48.0, 2.0, 144.0, 8.0]\n",
      "[17.26, 971.97, 863.97, 127.4, 6.47, 647.99, 26.99, 1943.94, 107.99]\n"
     ]
    }
   ],
   "source": [
    "subtotals = [15.98, 899.97, 799.97, 117.96, 5.99, 599.99, 24.99, 1799.94, 99.99]\n",
    "taxes = []\n",
    "totals = []\n",
    "# Develop a for loop code to calculate the tax and totals\n",
    "# tax = round(subtotal * 0.08, 2)\n",
    "# total = round(subtotal + tax, 2)\n",
    "\n",
    "\n",
    "\n",
    "print(taxes)\n",
    "print(totals)"
   ]
  },
  {
   "cell_type": "markdown",
   "id": "21d1666f",
   "metadata": {},
   "source": [
    "___\n",
    "## Assignment: Enumerate\n",
    "### Sales Tax by State\n",
    "The loop from above needs to be modify to account for various tax rates in different states. Below is a list containing the location of each purchase. The transaction `subtotal[i]` took place at `loc[i]`."
   ]
  },
  {
   "cell_type": "code",
   "execution_count": 5,
   "id": "ce4aed77",
   "metadata": {},
   "outputs": [],
   "source": [
    "subtotals = [15.98, 899.97, 799.97, 117.96, 5.99, 599.99, 24.99, 1799.94, 99.99]\n",
    "loc = ['Sun Valley', 'Stowe', 'Mammoth', 'Stowe', 'Sun Valley', 'Mammoth','Mammoth', 'Mammoth', 'Sun Valley']"
   ]
  },
  {
   "cell_type": "markdown",
   "id": "ccef3304",
   "metadata": {},
   "source": [
    "The following tax rates should be applied for each location:\n",
    "* Sun Valley: 8%\n",
    "* Stowe: 6%\n",
    "* Mammoth: 7.75%"
   ]
  },
  {
   "cell_type": "code",
   "execution_count": 6,
   "id": "e57687ea",
   "metadata": {},
   "outputs": [
    {
     "name": "stdout",
     "output_type": "stream",
     "text": [
      "[1.28, 54.0, 62.0, 7.08, 0.48, 46.5, 1.94, 139.5, 8.0]\n",
      "[17.26, 953.97, 861.97, 125.04, 6.47, 646.49, 26.93, 1939.44, 107.99]\n"
     ]
    }
   ],
   "source": [
    "taxes = []\n",
    "totals = []\n",
    "\n",
    "\n",
    "\n",
    "\n",
    "print(taxes)\n",
    "print(totals)"
   ]
  },
  {
   "cell_type": "markdown",
   "id": "b7548cff",
   "metadata": {},
   "source": [
    "___\n",
    "## Assignment: While Loops\n",
    "### Calculate Projected Inventory for Each Month\n",
    "\n",
    "Currently there are 686 pairs of skis in inventory, and sales of 84 each month.\n",
    "\n",
    "Write a program to keep track of monthly inventory, by subtracting 84 pairs of skis from inventory each month. \n",
    "\n",
    "The program should print 'At the end of month x, inventory = y ski pairs', where x is the number of months that has gone by and y is the remaining inventory at that month.\n",
    "\n",
    "The program should exit if inventory goes negative."
   ]
  },
  {
   "cell_type": "code",
   "execution_count": 7,
   "id": "02920e78",
   "metadata": {},
   "outputs": [
    {
     "name": "stdout",
     "output_type": "stream",
     "text": [
      "At the end of month 1, inventory = 602 ski pairs\n",
      "At the end of month 2, inventory = 518 ski pairs\n",
      "At the end of month 3, inventory = 434 ski pairs\n",
      "At the end of month 4, inventory = 350 ski pairs\n",
      "At the end of month 5, inventory = 266 ski pairs\n",
      "At the end of month 6, inventory = 182 ski pairs\n",
      "At the end of month 7, inventory = 98 ski pairs\n",
      "At the end of month 8, inventory = 14 ski pairs\n"
     ]
    }
   ],
   "source": [
    "inv = 686\n",
    "ms = 84\n",
    "m=0\n"
   ]
  },
  {
   "cell_type": "markdown",
   "id": "9245c2ed",
   "metadata": {},
   "source": [
    "___\n",
    "## Assignment: Nested Loops\n",
    "### Apply Discount Prices for Multi-Order Customers\n",
    "Apply a 10% discount to every transaction in the list below.\n",
    "Assign the discounted prices to a new list: `dp`."
   ]
  },
  {
   "cell_type": "code",
   "execution_count": 8,
   "id": "c24da5d9",
   "metadata": {},
   "outputs": [
    {
     "data": {
      "text/plain": [
       "[[1799.94, 29.98, 99.99],\n",
       " [15.98, 119.99],\n",
       " [24.99, 24.99],\n",
       " [649.99, 99.99],\n",
       " [599.99, 399.97]]"
      ]
     },
     "execution_count": 8,
     "metadata": {},
     "output_type": "execute_result"
    }
   ],
   "source": [
    "orders_c00001 = [1799.94, 29.98, 99.99]\n",
    "orders_c00004 = [15.98, 119.99]\n",
    "orders_c00006 = [24.99, 24.99]\n",
    "orders_c00008 = [649.99, 99.99]\n",
    "orders_c00010 = [599.99, 399.97]\n",
    "\n",
    "m = [\n",
    "    [1799.94, 29.98, 99.99],\n",
    "    [15.98, 119.99],\n",
    "    [24.99, 24.99],\n",
    "    [649.99, 99.99],\n",
    "    [599.99, 399.97]\n",
    "]\n",
    "m"
   ]
  },
  {
   "cell_type": "code",
   "execution_count": 9,
   "id": "b7b0c3f3",
   "metadata": {},
   "outputs": [
    {
     "data": {
      "text/plain": [
       "[[1619.95, 26.98, 89.99],\n",
       " [14.38, 107.99],\n",
       " [22.49, 22.49],\n",
       " [584.99, 89.99],\n",
       " [539.99, 359.97]]"
      ]
     },
     "execution_count": 9,
     "metadata": {},
     "output_type": "execute_result"
    }
   ],
   "source": [
    "dp = []\n",
    "\n",
    "dp"
   ]
  },
  {
   "cell_type": "markdown",
   "id": "305609ac",
   "metadata": {},
   "source": [
    "___\n",
    "## Assignment: Loop Control\n",
    "### Improved Affordability Calculator.\n",
    "\n",
    "Make changes to the codes below (to make sure the affordability calculator can handle many data types without stopping since the data is messy). \n",
    "\n",
    "Make sure the following changes are included:\n",
    "* Converts the string in the list into a float. Print a warning ('String Data Detected') for any string data.\n",
    "* Skip any instances of None data type (use the continue method)\n",
    "* Remove the generic except statement ('That is not a number') to avoid processing errors.\n",
    "* Create a variable for budget = 50 to replace the hard coded value of 50."
   ]
  },
  {
   "cell_type": "code",
   "execution_count": 11,
   "id": "96e60db2",
   "metadata": {},
   "outputs": [
    {
     "name": "stdout",
     "output_type": "stream",
     "text": [
      "I can buy 8.0 of these.\n",
      "That is not a number\n",
      "I can buy 2.0 of these.\n",
      "I can buy 2.0 of these.\n",
      "This product is free.\n",
      "That is not a number\n",
      "I can buy 0.0 of these.\n"
     ]
    }
   ],
   "source": [
    "prices = [5.99, None, 19.99, 24.99, 0, '74.99', 99.99]\n",
    "\n",
    "# loop to calculate how many of each item I can buy\n"
   ]
  },
  {
   "cell_type": "code",
   "execution_count": 15,
   "id": "f98ae237",
   "metadata": {},
   "outputs": [
    {
     "name": "stdout",
     "output_type": "stream",
     "text": [
      "I can buy 8.0 of these.\n",
      "Pass\n",
      "I can buy 2.0 of these.\n",
      "I can buy 2.0 of these.\n",
      "This product is free.\n",
      "String Data Detected\n",
      "I can buy 0.0 of these.\n",
      "I can buy 0.0 of these.\n"
     ]
    }
   ],
   "source": [
    "prices = [5.99, None, 19.99, 24.99, 0, '74.99', 99.99]\n",
    "budget=50\n",
    "\n"
   ]
  },
  {
   "cell_type": "markdown",
   "id": "a74433d7",
   "metadata": {},
   "source": [
    "___"
   ]
  }
 ],
 "metadata": {
  "kernelspec": {
   "display_name": "Python 3 (ipykernel)",
   "language": "python",
   "name": "python3"
  },
  "language_info": {
   "codemirror_mode": {
    "name": "ipython",
    "version": 3
   },
   "file_extension": ".py",
   "mimetype": "text/x-python",
   "name": "python",
   "nbconvert_exporter": "python",
   "pygments_lexer": "ipython3",
   "version": "3.12.3"
  }
 },
 "nbformat": 4,
 "nbformat_minor": 5
}
