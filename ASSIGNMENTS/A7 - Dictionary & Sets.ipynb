{
 "cells": [
  {
   "cell_type": "markdown",
   "id": "6d74af00",
   "metadata": {},
   "source": [
    "# **Dictionary & Sets**\n",
    "## Assignment: Dictionary Basics\n",
    "### Snack Dictionary\n",
    "Below is the current snack dictionary. Run this first cell to create the `snacks` dictionary."
   ]
  },
  {
   "cell_type": "code",
   "execution_count": 1,
   "id": "5a5784f0",
   "metadata": {},
   "outputs": [],
   "source": [
    "snacks = {\n",
    "    'Sally': 'Popcorn',\n",
    "    'Ricard': 'Chocolate Ice Cream',\n",
    "    'Stuart': 'Apple Pie',\n",
    "    'Jerry': 'Raisins',\n",
    "    'Sierra': 'Peanut Butter Cookies'\n",
    "}"
   ]
  },
  {
   "cell_type": "markdown",
   "id": "4a543a30",
   "metadata": {},
   "source": [
    "Print Stuart's favorite snack"
   ]
  },
  {
   "cell_type": "code",
   "execution_count": 2,
   "id": "36f6342a",
   "metadata": {},
   "outputs": [
    {
     "data": {
      "text/plain": [
       "'Apple Pie'"
      ]
     },
     "execution_count": 2,
     "metadata": {},
     "output_type": "execute_result"
    }
   ],
   "source": [
    "snacks['Stuart']"
   ]
  },
  {
   "cell_type": "markdown",
   "id": "e984e2be",
   "metadata": {},
   "source": [
    "Make the following changes do the dictionary:\n",
    "* Add 'Alfie' and his favorite snack, 'Cheese and Crackers'.\n",
    "* Change Jerry's favorite snack to 'Fig Bars'.\n",
    "* Remove Sierra."
   ]
  },
  {
   "cell_type": "code",
   "execution_count": 3,
   "id": "c61a3b15",
   "metadata": {},
   "outputs": [
    {
     "data": {
      "text/plain": [
       "{'Sally': 'Popcorn',\n",
       " 'Ricard': 'Chocolate Ice Cream',\n",
       " 'Stuart': 'Apple Pie',\n",
       " 'Jerry': 'Fig Bar',\n",
       " 'Alfie': 'Cheese and Crackers'}"
      ]
     },
     "execution_count": 3,
     "metadata": {},
     "output_type": "execute_result"
    }
   ],
   "source": [
    "# key-value pair addition\n",
    "\n",
    "# Value reassignment\n",
    "\n",
    "# key-value pair removal\n",
    "\n",
    "snacks"
   ]
  },
  {
   "cell_type": "markdown",
   "id": "37f69621",
   "metadata": {},
   "source": [
    "___\n",
    "## Assignment: Dictionary Creation\n",
    "### Inventory Status\n",
    "Both products and inventory levels are in the lists below.\n",
    "Run the cell below to create the lists."
   ]
  },
  {
   "cell_type": "code",
   "execution_count": 10,
   "id": "3cf5cede",
   "metadata": {},
   "outputs": [],
   "source": [
    "items = ['skis', 'snowboard', 'goggles', 'boots']\n",
    "inv = [10, 0, 0, 7]"
   ]
  },
  {
   "cell_type": "markdown",
   "id": "533e9f55",
   "metadata": {},
   "source": [
    "### Inventory Status Dictionary\n",
    "Create a dictionary:\n",
    "* To store item name as keys\n",
    "* To print 'sold out' for inventory value = 0, and 'in stock' if not?"
   ]
  },
  {
   "cell_type": "code",
   "execution_count": 12,
   "id": "b2b97b2d",
   "metadata": {},
   "outputs": [
    {
     "data": {
      "text/plain": [
       "{'skis': 'in stock',\n",
       " 'snowboard': 'sold out',\n",
       " 'goggles': 'sold out',\n",
       " 'boots': 'in stock'}"
      ]
     },
     "execution_count": 12,
     "metadata": {},
     "output_type": "execute_result"
    }
   ],
   "source": [
    "# Hints:\n",
    "# Create empty dictionary\n",
    "# Use enumerate to grab index and elements of items\n",
    "# Use conditional logic to create dictionary entry\n",
    "# Based on values of inventory\n",
    "dict = {}\n",
    "\n",
    "\n",
    "dict"
   ]
  },
  {
   "cell_type": "markdown",
   "id": "6bb72ffa",
   "metadata": {},
   "source": [
    "___\n",
    "## Assignment: Dictionary Methods\n",
    "### Help with European Data\n",
    "Run the cell below to create the product dictionary, `prod`."
   ]
  },
  {
   "cell_type": "code",
   "execution_count": 15,
   "id": "87a47a9f",
   "metadata": {},
   "outputs": [],
   "source": [
    "prod = {\n",
    "    10001: ('Coffee', 5.99, 'beverage', ['250mL']),\n",
    "    10002: ('Beanie', 9.99, 'clothing', ['Child', 'Adult']),\n",
    "    10003: ('Gloves', 19.99, 'clothing', ['Child', 'Adult']),\n",
    "    10004: ('Sweatshirt', 24.99, 'clothing', ['XS', 'S', 'M', 'L', 'XL', 'XXL']),\n",
    "    10005: ('Helmet', 99.99, 'safety', ['Child', 'Adult']),\n",
    "    10006: ('Snow Pants', 79.99, 'clothing', ['XS', 'S', 'M', 'L', 'XL', 'XXL']),\n",
    "    10007: ('Coat', 119.99, 'clothing', ['S', 'M', 'L']),\n",
    "    10008: ('Ski Poles', 99.99, 'hardware', ['S', 'M', 'L']),\n",
    "    10009: ('Ski Boots', 199.99, 'hardware', [5, 6, 7, 8, 9, 10, 11])\n",
    "}"
   ]
  },
  {
   "cell_type": "markdown",
   "id": "f6faab88",
   "metadata": {},
   "source": [
    "### Size Counts\n",
    "Create a new dictionary, called `sc`, with the item numbers in `prod` as keys, and the number of sizes available for each item as the values. \n",
    "\n",
    "Sizes are stored in lists at the end of each 'row' of data. Key 10001 has a list with one size, 250ml at the end."
   ]
  },
  {
   "cell_type": "code",
   "execution_count": 16,
   "id": "df486515",
   "metadata": {},
   "outputs": [
    {
     "name": "stdout",
     "output_type": "stream",
     "text": [
      "{10001: 1, 10002: 2, 10003: 2, 10004: 6, 10005: 2, 10006: 6, 10007: 3, 10008: 3, 10009: 7}\n"
     ]
    }
   ],
   "source": [
    "sc = {}\n",
    "\n",
    "\n",
    "print(sc)"
   ]
  },
  {
   "cell_type": "markdown",
   "id": "c584ecbf",
   "metadata": {},
   "source": [
    "### New Size Options\n",
    "Update by adding two products to `sc`:\n",
    "* Item 10010 has 4 sizes.\n",
    "* Item 10011 has 7 possible sizes."
   ]
  },
  {
   "cell_type": "code",
   "execution_count": 17,
   "id": "1f2191c7",
   "metadata": {},
   "outputs": [
    {
     "name": "stdout",
     "output_type": "stream",
     "text": [
      "{10001: 1, 10002: 2, 10003: 2, 10004: 6, 10005: 2, 10006: 6, 10007: 3, 10008: 3, 10009: 7, 10010: 4, 10011: 7}\n"
     ]
    }
   ],
   "source": [
    "new={10010:4, 10011:7}\n",
    "\n",
    "\n",
    "print(sc)"
   ]
  },
  {
   "cell_type": "markdown",
   "id": "a9d7dbfa",
   "metadata": {},
   "source": [
    "### Euro Pricing\n",
    "Extract the prices from `prod` and create a list with converted Euro pricing. Use an exchange rate of 0.88."
   ]
  },
  {
   "cell_type": "code",
   "execution_count": 20,
   "id": "cc0806db",
   "metadata": {},
   "outputs": [
    {
     "data": {
      "text/plain": [
       "[5.27, 8.79, 17.59, 21.99, 87.99, 70.39, 105.59, 87.99, 175.99]"
      ]
     },
     "execution_count": 20,
     "metadata": {},
     "output_type": "execute_result"
    }
   ],
   "source": [
    "ex = 0.88\n",
    "ep = []\n",
    "\n",
    "\n",
    "ep"
   ]
  },
  {
   "cell_type": "markdown",
   "id": "f7bf3563",
   "metadata": {},
   "source": [
    "___\n",
    "## Assignment: Zip()\n",
    "### European Item Dictionary\n",
    "Create a European price dictionary by running the cell below."
   ]
  },
  {
   "cell_type": "code",
   "execution_count": 16,
   "id": "4244847c",
   "metadata": {},
   "outputs": [],
   "source": [
    "# Data for dictionary \n",
    "ids = [10001, 10002, 10003, 10004, 10005, 10006, 10007, 10008, 10009]\n",
    "names = [\"Coffee\", \"Beanie\", \"Gloves\", \"Sweatshirt\", \"Helmet\", \"Snow Pants\", \"Coat\", \"Ski Poles\", \"Ski Boots\"]\n",
    "euros = [5.27, 8.79, 17.59, 21.99, 87.99, 70.39, 105.59, 87.99, 175.99]\n",
    "cat = [\"beverage\", \"clothing\", \"clothing\", \"clothing\", \"safety\", \"clothing\", \"clothing\", \"hardware\", \"hardware\"]\n",
    "sizes = [\n",
    "    [\"250mL\"],\n",
    "    [\"Child\", \"Adult\"],\n",
    "    [\"Child\", \"Adult\"],\n",
    "    [\"XS\", \"S\", \"M\", \"L\", \"XL\", \"XXL\"],\n",
    "    [\"Child\", \"Adult\"],\n",
    "    [\"XS\", \"S\", \"M\", \"L\", \"XL\", \"XXL\"],\n",
    "    [\"S\", \"M\", \"L\"],\n",
    "    [\"S\", \"M\", \"L\"],\n",
    "    [5, 6, 7, 8, 9, 10, 11]\n",
    "]"
   ]
  },
  {
   "cell_type": "markdown",
   "id": "7e438162",
   "metadata": {},
   "source": [
    "Create a new dictionary, called `ei`, with the `ids` as keys and the rest of the data as values. \n",
    "\n",
    "The values must be in the order of `names`,`euros`, `cat`, `sizes`."
   ]
  },
  {
   "cell_type": "code",
   "execution_count": 17,
   "id": "f74e75dd",
   "metadata": {},
   "outputs": [
    {
     "data": {
      "text/plain": [
       "{10001: ('Coffee', 5.27, 'beverage', ['250mL']),\n",
       " 10002: ('Beanie', 8.79, 'clothing', ['Child', 'Adult']),\n",
       " 10003: ('Gloves', 17.59, 'clothing', ['Child', 'Adult']),\n",
       " 10004: ('Sweatshirt', 21.99, 'clothing', ['XS', 'S', 'M', 'L', 'XL', 'XXL']),\n",
       " 10005: ('Helmet', 87.99, 'safety', ['Child', 'Adult']),\n",
       " 10006: ('Snow Pants', 70.39, 'clothing', ['XS', 'S', 'M', 'L', 'XL', 'XXL']),\n",
       " 10007: ('Coat', 105.59, 'clothing', ['S', 'M', 'L']),\n",
       " 10008: ('Ski Poles', 87.99, 'hardware', ['S', 'M', 'L']),\n",
       " 10009: ('Ski Boots', 175.99, 'hardware', [5, 6, 7, 8, 9, 10, 11])}"
      ]
     },
     "execution_count": 17,
     "metadata": {},
     "output_type": "execute_result"
    }
   ],
   "source": [
    "# Double zip: One for the dictionary keys and one for the dictionary values\n",
    "\n",
    "\n",
    "ei"
   ]
  },
  {
   "cell_type": "markdown",
   "id": "e1957c0b",
   "metadata": {},
   "source": [
    "___\n",
    "## Assignment: Nested Dictionaries\n",
    "### New European Dictionary\n",
    "Below is the new structure for the European data (a nested dictionary). Run the following two cells to create the new data."
   ]
  },
  {
   "cell_type": "code",
   "execution_count": 18,
   "id": "dfed7c8d",
   "metadata": {},
   "outputs": [],
   "source": [
    "ids = [\n",
    "    10001, 10002, 10003, 10004, 10005, \n",
    "    10006, 10007, 10008, 10009\n",
    "]\n",
    "names = [\n",
    "    \"Coffee\", \"Beanie\", \"Gloves\", \"Sweatshirt\", \"Helmet\",\n",
    "    \"Snow Pants\", \"Coat\", \"Ski Poles\", \"Ski Boots\"\n",
    "]\n",
    "euros = [\n",
    "    5.27, 8.79, 17.59, 21.99, 87.99, \n",
    "    70.39, 105.59, 87.99, 175.99\n",
    "]\n",
    "cat = [\n",
    "    \"beverage\", \"clothing\", \"clothing\", \"clothing\", \"safety\",\n",
    "    \"clothing\", \"clothing\", \"hardware\", \"hardware\",\n",
    "]\n",
    "sizes = [\n",
    "    [\"250mL\"],\n",
    "    [\"Child\", \"Adult\"],\n",
    "    [\"Child\", \"Adult\"],\n",
    "    [\"XS\", \"S\", \"M\", \"L\", \"XL\", \"XXL\"],\n",
    "    [\"Child\", \"Adult\"],\n",
    "    [\"XS\", \"S\", \"M\", \"L\", \"XL\", \"XXL\"],\n",
    "    [\"S\", \"M\", \"L\"],\n",
    "    [\"S\", \"M\", \"L\"],\n",
    "    [5, 6, 7, 8, 9, 10, 11],\n",
    "    [\"S\", \"M\", \"L\"],\n",
    "    [5, 6, 7, 8, 9, 10, 11],\n",
    "    [\"NA\"],\n",
    "    [\"S\", \"M\", \"L\", \"Powder\"],\n",
    "]"
   ]
  },
  {
   "cell_type": "code",
   "execution_count": 20,
   "id": "876cf86b",
   "metadata": {},
   "outputs": [
    {
     "data": {
      "text/plain": [
       "{10001: {'name': 'Coffee',\n",
       "  'price': 5.27,\n",
       "  'category': 'beverage',\n",
       "  'sizes': ['250mL']},\n",
       " 10002: {'name': 'Beanie',\n",
       "  'price': 8.79,\n",
       "  'category': 'clothing',\n",
       "  'sizes': ['Child', 'Adult']},\n",
       " 10003: {'name': 'Gloves',\n",
       "  'price': 17.59,\n",
       "  'category': 'clothing',\n",
       "  'sizes': ['Child', 'Adult']},\n",
       " 10004: {'name': 'Sweatshirt',\n",
       "  'price': 21.99,\n",
       "  'category': 'clothing',\n",
       "  'sizes': ['XS', 'S', 'M', 'L', 'XL', 'XXL']},\n",
       " 10005: {'name': 'Helmet',\n",
       "  'price': 87.99,\n",
       "  'category': 'safety',\n",
       "  'sizes': ['Child', 'Adult']},\n",
       " 10006: {'name': 'Snow Pants',\n",
       "  'price': 70.39,\n",
       "  'category': 'clothing',\n",
       "  'sizes': ['XS', 'S', 'M', 'L', 'XL', 'XXL']},\n",
       " 10007: {'name': 'Coat',\n",
       "  'price': 105.59,\n",
       "  'category': 'clothing',\n",
       "  'sizes': ['S', 'M', 'L']},\n",
       " 10008: {'name': 'Ski Poles',\n",
       "  'price': 87.99,\n",
       "  'category': 'hardware',\n",
       "  'sizes': ['S', 'M', 'L']},\n",
       " 10009: {'name': 'Ski Boots',\n",
       "  'price': 175.99,\n",
       "  'category': 'hardware',\n",
       "  'sizes': [5, 6, 7, 8, 9, 10, 11]}}"
      ]
     },
     "execution_count": 20,
     "metadata": {},
     "output_type": "execute_result"
    }
   ],
   "source": [
    "# Note: this is a dictionary comprension - this syntax will be covered in the next section\n",
    "eurodata = \n",
    "\n",
    "eurodata"
   ]
  },
  {
   "cell_type": "markdown",
   "id": "d8e65b66",
   "metadata": {},
   "source": [
    "### Lookup Data\n",
    "Check the price for item 10009."
   ]
  },
  {
   "cell_type": "code",
   "execution_count": 22,
   "id": "24ac581d",
   "metadata": {},
   "outputs": [
    {
     "data": {
      "text/plain": [
       "175.99"
      ]
     },
     "execution_count": 22,
     "metadata": {},
     "output_type": "execute_result"
    }
   ],
   "source": [
    "\n"
   ]
  },
  {
   "cell_type": "markdown",
   "id": "2e30d890",
   "metadata": {},
   "source": [
    "### European Sizes\n",
    "Change the size for the boots (item 10009) to European shoe sizing. The European sizes are shown in a list below."
   ]
  },
  {
   "cell_type": "code",
   "execution_count": 23,
   "id": "c9e032d7",
   "metadata": {},
   "outputs": [
    {
     "data": {
      "text/plain": [
       "{10001: {'name': 'Coffee',\n",
       "  'price': 5.27,\n",
       "  'category': 'beverage',\n",
       "  'sizes': ['250mL']},\n",
       " 10002: {'name': 'Beanie',\n",
       "  'price': 8.79,\n",
       "  'category': 'clothing',\n",
       "  'sizes': ['Child', 'Adult']},\n",
       " 10003: {'name': 'Gloves',\n",
       "  'price': 17.59,\n",
       "  'category': 'clothing',\n",
       "  'sizes': ['Child', 'Adult']},\n",
       " 10004: {'name': 'Sweatshirt',\n",
       "  'price': 21.99,\n",
       "  'category': 'clothing',\n",
       "  'sizes': ['XS', 'S', 'M', 'L', 'XL', 'XXL']},\n",
       " 10005: {'name': 'Helmet',\n",
       "  'price': 87.99,\n",
       "  'category': 'safety',\n",
       "  'sizes': ['Child', 'Adult']},\n",
       " 10006: {'name': 'Snow Pants',\n",
       "  'price': 70.39,\n",
       "  'category': 'clothing',\n",
       "  'sizes': ['XS', 'S', 'M', 'L', 'XL', 'XXL']},\n",
       " 10007: {'name': 'Coat',\n",
       "  'price': 105.59,\n",
       "  'category': 'clothing',\n",
       "  'sizes': ['S', 'M', 'L']},\n",
       " 10008: {'name': 'Ski Poles',\n",
       "  'price': 87.99,\n",
       "  'category': 'hardware',\n",
       "  'sizes': ['S', 'M', 'L']},\n",
       " 10009: {'name': 'Ski Boots',\n",
       "  'price': 175.99,\n",
       "  'category': 'hardware',\n",
       "  'sizes': [37, 38, 39.5, 40.5, 41.5, 43.5, 44.5, 46.5]}}"
      ]
     },
     "execution_count": 23,
     "metadata": {},
     "output_type": "execute_result"
    }
   ],
   "source": [
    "bsizes = [37, 38, 39.5, 40.5, 41.5, 43.5, 44.5, 46.5]\n",
    "\n",
    "\n",
    "eurodata"
   ]
  },
  {
   "cell_type": "markdown",
   "id": "41a85a7d",
   "metadata": {},
   "source": [
    "### Size Dictionary\n",
    "Create a new dictionary, called `ps`, with item names as keys, and sizes (in lists) as the values."
   ]
  },
  {
   "cell_type": "code",
   "execution_count": 26,
   "id": "85db7558",
   "metadata": {},
   "outputs": [
    {
     "data": {
      "text/plain": [
       "{'Coffee': ['250mL'],\n",
       " 'Beanie': ['Child', 'Adult'],\n",
       " 'Gloves': ['Child', 'Adult'],\n",
       " 'Sweatshirt': ['XS', 'S', 'M', 'L', 'XL', 'XXL'],\n",
       " 'Helmet': ['Child', 'Adult'],\n",
       " 'Snow Pants': ['XS', 'S', 'M', 'L', 'XL', 'XXL'],\n",
       " 'Coat': ['S', 'M', 'L'],\n",
       " 'Ski Poles': ['S', 'M', 'L'],\n",
       " 'Ski Boots': [37, 38, 39.5, 40.5, 41.5, 43.5, 44.5, 46.5]}"
      ]
     },
     "execution_count": 26,
     "metadata": {},
     "output_type": "execute_result"
    }
   ],
   "source": [
    "ps={}\n",
    "\n",
    "\n",
    "ps"
   ]
  },
  {
   "cell_type": "markdown",
   "id": "b5c70fae",
   "metadata": {},
   "source": [
    "___\n",
    "## Assignment: Sets\n",
    "### Product Category Analysis\n",
    "Below is the code to create the European item dictionary. Run the following cell to recreate the data."
   ]
  },
  {
   "cell_type": "code",
   "execution_count": 27,
   "id": "9184ed78",
   "metadata": {},
   "outputs": [],
   "source": [
    "ids = [10001, 10002, 10003, 10004, 10005, 10006, 10007, 10008, 10009]\n",
    "names = [\"Coffee\", \"Beanie\", \"Gloves\", \"Sweatshirt\", \"Helmet\", \"Snow Pants\", \"Coat\", \"Ski Poles\", \"Ski Boots\"]\n",
    "euros = [5.27, 8.79, 17.59, 21.99, 87.99, 70.39, 105.59, 87.99, 175.99]\n",
    "cat = [\"beverage\", \"clothing\", \"clothing\", \"clothing\", \"safety\", \"clothing\", \"clothing\", \"hardware\", \"hardware\"]\n",
    "sizes = [\n",
    "    [\"250mL\"],\n",
    "    [\"Child\", \"Adult\"],\n",
    "    [\"Child\", \"Adult\"],\n",
    "    [\"XS\", \"S\", \"M\", \"L\", \"XL\", \"XXL\"],\n",
    "    [\"Child\", \"Adult\"],\n",
    "    [\"XS\", \"S\", \"M\", \"L\", \"XL\", \"XXL\"],\n",
    "    [\"S\", \"M\", \"L\"],\n",
    "    [\"S\", \"M\", \"L\"],\n",
    "    [5, 6, 7, 8, 9, 10, 11],\n",
    "    [\"S\", \"M\", \"L\"],\n",
    "    [5, 6, 7, 8, 9, 10, 11],\n",
    "    [\"NA\"],\n",
    "    [\"S\", \"M\", \"L\", \"Powder\"]\n",
    "]"
   ]
  },
  {
   "cell_type": "markdown",
   "id": "f699d023",
   "metadata": {},
   "source": [
    "### Unique Categories\n",
    "Create a new dictionary `ei` by zipping the data above."
   ]
  },
  {
   "cell_type": "code",
   "execution_count": 29,
   "id": "e5ff8fff",
   "metadata": {},
   "outputs": [
    {
     "data": {
      "text/plain": [
       "{10001: ('Coffee', 5.27, 'beverage', ['250mL']),\n",
       " 10002: ('Beanie', 8.79, 'clothing', ['Child', 'Adult']),\n",
       " 10003: ('Gloves', 17.59, 'clothing', ['Child', 'Adult']),\n",
       " 10004: ('Sweatshirt', 21.99, 'clothing', ['XS', 'S', 'M', 'L', 'XL', 'XXL']),\n",
       " 10005: ('Helmet', 87.99, 'safety', ['Child', 'Adult']),\n",
       " 10006: ('Snow Pants', 70.39, 'clothing', ['XS', 'S', 'M', 'L', 'XL', 'XXL']),\n",
       " 10007: ('Coat', 105.59, 'clothing', ['S', 'M', 'L']),\n",
       " 10008: ('Ski Poles', 87.99, 'hardware', ['S', 'M', 'L']),\n",
       " 10009: ('Ski Boots', 175.99, 'hardware', [5, 6, 7, 8, 9, 10, 11])}"
      ]
     },
     "execution_count": 29,
     "metadata": {},
     "output_type": "execute_result"
    }
   ],
   "source": [
    "ei=\n",
    "\n",
    "ei"
   ]
  },
  {
   "cell_type": "markdown",
   "id": "f262900f",
   "metadata": {},
   "source": [
    "### Display unique categories and the number of unique categories."
   ]
  },
  {
   "cell_type": "code",
   "execution_count": 30,
   "id": "934f7033",
   "metadata": {},
   "outputs": [
    {
     "name": "stdout",
     "output_type": "stream",
     "text": [
      "{'safety', 'clothing', 'beverage', 'hardware'}\n"
     ]
    }
   ],
   "source": [
    "cat=[]\n",
    "\n",
    "\n",
    "print(set(cat))"
   ]
  },
  {
   "cell_type": "code",
   "execution_count": 32,
   "id": "eb1d0fae",
   "metadata": {},
   "outputs": [
    {
     "name": "stdout",
     "output_type": "stream",
     "text": [
      "{'safety', 'clothing', 'beverage', 'hardware'}\n"
     ]
    }
   ],
   "source": [
    "# Alternative method: Using the .add() method to add values directly onto empty set\n",
    "cat = set()\n",
    "\n",
    "\n",
    "print(cat)   "
   ]
  },
  {
   "cell_type": "code",
   "execution_count": 33,
   "id": "fa03cc6c",
   "metadata": {},
   "outputs": [
    {
     "data": {
      "text/plain": [
       "4"
      ]
     },
     "execution_count": 33,
     "metadata": {},
     "output_type": "execute_result"
    }
   ],
   "source": [
    "# Number of unique categories\n",
    "\n"
   ]
  },
  {
   "cell_type": "code",
   "execution_count": 35,
   "id": "b75b6661",
   "metadata": {},
   "outputs": [
    {
     "data": {
      "text/plain": [
       "False"
      ]
     },
     "execution_count": 35,
     "metadata": {},
     "output_type": "execute_result"
    }
   ],
   "source": [
    "# Check whether 'outdoor' is in the set of categories.\n",
    "\n"
   ]
  },
  {
   "cell_type": "markdown",
   "id": "381211a8",
   "metadata": {},
   "source": [
    "___\n",
    "## Assignment: Set Operations\n",
    "### Weekend Sales Follow-Up Analysis\n",
    "Below are three lists representing the customers who made purchases on Friday, Saturday, and Sunday. Customers who made purchases on Friday and either Saturday or Sunday are targeted with follow up promotions.\n",
    "\n",
    "First, run the cell below to create the customer lists."
   ]
  },
  {
   "cell_type": "code",
   "execution_count": 36,
   "id": "906239cb",
   "metadata": {},
   "outputs": [],
   "source": [
    "fri = [\n",
    "    'C00004', 'C00007', 'C00015', 'C00016', 'C00020',\n",
    "    'C00010', 'C00006', 'C00001', 'C00003', 'C00014',\n",
    "    'C00001', 'C00001', 'C00005', 'C00008', 'C00013'\n",
    "]\n",
    "sat = ['C00004', 'C00017', 'C00019', 'C00002', 'C00008','C00021', 'C00022']\n",
    "sun = ['C00006', 'C00018', 'C00018', 'C00010', 'C00016']"
   ]
  },
  {
   "cell_type": "markdown",
   "id": "572b43f9",
   "metadata": {},
   "source": [
    "#### Collect Unique Weekend Customers\n",
    "Create a set called `wkend` to show all the unique customers from the weekend (`sat` and `sun`)."
   ]
  },
  {
   "cell_type": "code",
   "execution_count": 37,
   "id": "86c2d669",
   "metadata": {},
   "outputs": [
    {
     "data": {
      "text/plain": [
       "{'C00002',\n",
       " 'C00004',\n",
       " 'C00006',\n",
       " 'C00008',\n",
       " 'C00010',\n",
       " 'C00016',\n",
       " 'C00017',\n",
       " 'C00018',\n",
       " 'C00019',\n",
       " 'C00021',\n",
       " 'C00022'}"
      ]
     },
     "execution_count": 37,
     "metadata": {},
     "output_type": "execute_result"
    }
   ],
   "source": [
    "wkend=\n",
    "wkend"
   ]
  },
  {
   "cell_type": "markdown",
   "id": "25f3bc15",
   "metadata": {},
   "source": [
    "#### Friday Customers Who Came Back During the Weekend\n",
    "Based on the above, find those customers who made a purchase on Friday AND made a purchase during the weekend."
   ]
  },
  {
   "cell_type": "code",
   "execution_count": 39,
   "id": "6bec22eb",
   "metadata": {},
   "outputs": [
    {
     "data": {
      "text/plain": [
       "{'C00004', 'C00006', 'C00008', 'C00010', 'C00016'}"
      ]
     },
     "execution_count": 39,
     "metadata": {},
     "output_type": "execute_result"
    }
   ],
   "source": [
    "# Customers who purchased on Friday AND on weekend (intersection between Friday and Weekend Sets)\n"
   ]
  },
  {
   "cell_type": "markdown",
   "id": "187d9480",
   "metadata": {},
   "source": [
    "___"
   ]
  }
 ],
 "metadata": {
  "kernelspec": {
   "display_name": "Python 3 (ipykernel)",
   "language": "python",
   "name": "python3"
  },
  "language_info": {
   "codemirror_mode": {
    "name": "ipython",
    "version": 3
   },
   "file_extension": ".py",
   "mimetype": "text/x-python",
   "name": "python",
   "nbconvert_exporter": "python",
   "pygments_lexer": "ipython3",
   "version": "3.12.3"
  }
 },
 "nbformat": 4,
 "nbformat_minor": 5
}
