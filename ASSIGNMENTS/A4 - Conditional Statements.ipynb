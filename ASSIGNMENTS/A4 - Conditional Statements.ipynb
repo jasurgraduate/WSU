{
 "cells": [
  {
   "cell_type": "markdown",
   "id": "2eaeb171",
   "metadata": {},
   "source": [
    "# **Conditional Statements**\n",
    "## Assignment: Boolean Operators\n",
    "### Inventory Logic\n",
    "Create some logic that returns Boolean values depending on Inventory levels and other factors. The current inventory level is 5 units."
   ]
  },
  {
   "cell_type": "code",
   "execution_count": 1,
   "id": "092f66b8",
   "metadata": {},
   "outputs": [],
   "source": [
    "inv=5"
   ]
  },
  {
   "cell_type": "markdown",
   "id": "e6093e31",
   "metadata": {},
   "source": [
    "### Stock Check\n",
    "Write logic that returns True if inventory has 0 units."
   ]
  },
  {
   "cell_type": "code",
   "execution_count": 2,
   "id": "8da9b9a8",
   "metadata": {},
   "outputs": [
    {
     "name": "stdout",
     "output_type": "stream",
     "text": [
      "True\n"
     ]
    }
   ],
   "source": [
    "# to prove there is something in the inventory\n",
    "# == - equal, != not equal, <= less than or equal, >= greater than or equal  | Thank me later\n",
    "inv = 0\n",
    "if inv == 0:\n",
    "    print(f'True') \n"
   ]
  },
  {
   "cell_type": "markdown",
   "id": "5ad239a7",
   "metadata": {},
   "source": [
    "### A safe level of inventory?\n",
    "Write logic that returns True if the inventory is greater than or equal to five units."
   ]
  },
  {
   "cell_type": "code",
   "execution_count": 3,
   "id": "f8f7ff90",
   "metadata": {},
   "outputs": [
    {
     "name": "stdout",
     "output_type": "stream",
     "text": [
      "True\n"
     ]
    }
   ],
   "source": [
    "inv = 5\n",
    "if inv >= 5:\n",
    "    print(f'True')"
   ]
  },
  {
   "cell_type": "markdown",
   "id": "49bbb57f",
   "metadata": {},
   "source": [
    "### Display price for inventory greater than five units\n",
    "Write logic that displays the price of product with inventory that is greater than five units. Display 0.0 if not.\n",
    "Current price is 99.99."
   ]
  },
  {
   "cell_type": "code",
   "execution_count": 4,
   "id": "7d1fe791",
   "metadata": {},
   "outputs": [
    {
     "name": "stdout",
     "output_type": "stream",
     "text": [
      "Price: 99.99 and Inventory: 6\n"
     ]
    }
   ],
   "source": [
    "inv = 6\n",
    "p = 99.99\n",
    "\n",
    "if inv>5:\n",
    "    print(f'Price: {p} and Inventory: {inv}')\n",
    "else: print(f'0.0')\n",
    "\n"
   ]
  },
  {
   "cell_type": "code",
   "execution_count": 5,
   "id": "d41067cb",
   "metadata": {},
   "outputs": [
    {
     "name": "stdout",
     "output_type": "stream",
     "text": [
      "99.99\n"
     ]
    }
   ],
   "source": [
    "# Return 0.0 if the inventory is not greater than 5, otherwise return 99.99 (False=0; True=1)\n",
    "\n",
    "if inv<=5:\n",
    "    print(f'0.0')\n",
    "else: print(f'99.99')"
   ]
  },
  {
   "cell_type": "markdown",
   "id": "a658be31",
   "metadata": {},
   "source": [
    "### Discount Sale Item Flag\n",
    "Write logic that returns True if inventory is greater than 0 and the product price is less than 100 dollars."
   ]
  },
  {
   "cell_type": "code",
   "execution_count": 6,
   "id": "3da81983",
   "metadata": {},
   "outputs": [
    {
     "name": "stdout",
     "output_type": "stream",
     "text": [
      "True\n"
     ]
    }
   ],
   "source": [
    "# Return True if the price < 100 and the inventory > 0\n",
    "price = 99.99\n",
    "\n",
    "if price<100 and inv>0:\n",
    "    print(f'True')\n",
    "else: print(f'False dude! 😁')\n"
   ]
  },
  {
   "cell_type": "markdown",
   "id": "0e16597b",
   "metadata": {},
   "source": [
    "### Special Customer Flag\n",
    "Create logic that returns True if inventory is greater than 0, or the customer's name is Soup AND the product is named 'spoon'."
   ]
  },
  {
   "cell_type": "code",
   "execution_count": 7,
   "id": "50fa1724",
   "metadata": {},
   "outputs": [
    {
     "name": "stdout",
     "output_type": "stream",
     "text": [
      "True\n"
     ]
    }
   ],
   "source": [
    "c = 'Soup'\n",
    "inv = 2\n",
    "p = 'spoon'\n",
    "\n",
    "if inv>0 and c=='Soup' and p=='spoon':\n",
    "    print(f'True')\n",
    "else:\n",
    "    print(f'False dude!')"
   ]
  },
  {
   "cell_type": "markdown",
   "id": "f137051b",
   "metadata": {},
   "source": [
    "___\n",
    "## Assignment: Control Flow\n",
    "### Inventory Message\n",
    "Add an out of stock flag to products. \n",
    " \n",
    "* If inventory is negative or 0, print 'OUT OF STOCK'. \n",
    "* If inventory is greater than 0, and less than or equal to 5, print 'Low Stock'. \n",
    "* If inventory is anything else, print 'In Stock'"
   ]
  },
  {
   "cell_type": "code",
   "execution_count": 8,
   "id": "4bf724be",
   "metadata": {},
   "outputs": [
    {
     "name": "stdout",
     "output_type": "stream",
     "text": [
      "In Stock!\n"
     ]
    }
   ],
   "source": [
    "inv = 6\n",
    "\n",
    "if inv<=0:\n",
    "    print(f'OUT OF STOCK')\n",
    "elif inv>0 and inv<=5:\n",
    "    print(f'LOW STOCK')\n",
    "else: print(f'In Stock!')"
   ]
  },
  {
   "cell_type": "markdown",
   "id": "df187af9",
   "metadata": {},
   "source": [
    "___\n",
    "## Assignment: Nested If Statement \n",
    "### Inventory Message - VIP Request\n",
    "Modify the previous inventory logic to handle a special customer.\n",
    "\n",
    "* Print 'Out of Stock' if the inventory is less than or equal to zero, unless the customer's name is Soup.\n",
    "    * If inventory is less than or equal to zero, give the customer named Soup the display model. \n",
    "\n",
    "* Modify the logic below to print the following message if the new logic is met:\n",
    "    * 'Here is the display model.'\n",
    "\n",
    "Below are the current inventory logic and some test values. Make sure to test a few different values for each variable."
   ]
  },
  {
   "cell_type": "code",
   "execution_count": 9,
   "id": "d544da96",
   "metadata": {},
   "outputs": [
    {
     "name": "stdout",
     "output_type": "stream",
     "text": [
      "Here is the display model.\n"
     ]
    }
   ],
   "source": [
    "inv = 0\n",
    "c = 'Soup'\n",
    "if inv <= 0:\n",
    "    if c=='Soup':\n",
    "        print(f'Here is the display model.')\n",
    "    else:\n",
    "        print('Out of Stock') \n",
    "else:\n",
    "    print('In Stock')"
   ]
  },
  {
   "cell_type": "markdown",
   "id": "120e6920",
   "metadata": {},
   "source": [
    "### With Nested Logic"
   ]
  },
  {
   "cell_type": "code",
   "execution_count": 10,
   "id": "b486741a",
   "metadata": {},
   "outputs": [
    {
     "name": "stdout",
     "output_type": "stream",
     "text": [
      "Dear Soup, Please Buy Snickers and Bounty models\n"
     ]
    }
   ],
   "source": [
    "inv = 0\n",
    "c = 'Soup'\n",
    "if inv <= 0:\n",
    "    if c=='Soup':\n",
    "        print(f'Dear Soup, Please Buy Snickers and Bounty models')\n",
    "    else:\n",
    "        print('Out of Stock') \n",
    "else:\n",
    "    print('In Stock')\n"
   ]
  },
  {
   "cell_type": "markdown",
   "id": "14cb876a",
   "metadata": {},
   "source": [
    "### Without Nested Logic"
   ]
  },
  {
   "cell_type": "code",
   "execution_count": 11,
   "id": "f8d625b3",
   "metadata": {},
   "outputs": [
    {
     "name": "stdout",
     "output_type": "stream",
     "text": [
      "Dear Soup, Please Buy Snickers and Bounty models\n"
     ]
    }
   ],
   "source": [
    "inv = 0\n",
    "cn = 'Soup'\n",
    "\n",
    "if inv<=0 and cn=='Soup':\n",
    "        print(f'Dear Soup, Please Buy Snickers and Bounty models')\n",
    "elif inv<=0:\n",
    "        print(f'Out of Stock!')\n",
    "else:\n",
    "    print('In Stock')\n"
   ]
  },
  {
   "cell_type": "markdown",
   "id": "b229e933",
   "metadata": {},
   "source": [
    "___"
   ]
  }
 ],
 "metadata": {
  "kernelspec": {
   "display_name": "Python 3 (ipykernel)",
   "language": "python",
   "name": "python3"
  },
  "language_info": {
   "codemirror_mode": {
    "name": "ipython",
    "version": 3
   },
   "file_extension": ".py",
   "mimetype": "text/x-python",
   "name": "python",
   "nbconvert_exporter": "python",
   "pygments_lexer": "ipython3",
   "version": "3.12.4"
  }
 },
 "nbformat": 4,
 "nbformat_minor": 5
}
