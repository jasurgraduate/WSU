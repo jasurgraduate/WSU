{
 "cells": [
  {
   "cell_type": "markdown",
   "id": "260aa780",
   "metadata": {},
   "source": [
    "# **Functions**\n",
    "## Assignment: Defining A Function\n",
    "#### Tax Calculator\n",
    "Write a function that takes a subtotal and a tax rate and returns the total invoice amount.\n",
    "* Tax is equal to subtotal multiplied by the tax rate.\n",
    "* The total is equal to subtotal plus tax."
   ]
  },
  {
   "cell_type": "code",
   "execution_count": 89,
   "id": "8f80baf7",
   "metadata": {},
   "outputs": [
    {
     "name": "stdout",
     "output_type": "stream",
     "text": [
      "Overwriting tc.py\n"
     ]
    }
   ],
   "source": [
    "%%writefile tc.py\n",
    "\n",
    "def tc(subtotal): \n",
    "    tax = round(subtotal * 0.06, 2)  # Calculate tax (6%)\n",
    "    total = round(subtotal + tax, 2) # Calculate total\n",
    "    return [subtotal, tax, total]    # Return the values as a list"
   ]
  },
  {
   "cell_type": "code",
   "execution_count": 90,
   "id": "6ddc3a19",
   "metadata": {},
   "outputs": [
    {
     "data": {
      "text/plain": [
       "106.0"
      ]
     },
     "execution_count": 90,
     "metadata": {},
     "output_type": "execute_result"
    }
   ],
   "source": [
    "def tc(subt, tax_rate):\n",
    "    tax=subt*tax_rate\n",
    "    total=subt+tax\n",
    "    return total\n",
    "\n",
    "subt = 100\n",
    "tax_rate = 0.06\n",
    "total = tc(subt, tax_rate)\n",
    "\n",
    "total"
   ]
  },
  {
   "cell_type": "code",
   "execution_count": 91,
   "id": "08ed6725",
   "metadata": {},
   "outputs": [],
   "source": [
    "# tc(100,0.06)"
   ]
  },
  {
   "cell_type": "markdown",
   "id": "9941a89d",
   "metadata": {},
   "source": [
    "___\n",
    "## Assignment: Creating A Module\n",
    "### A Modified Tax Calculator\n",
    "Define a tax calculator below with a default tax rate of 6%. \n",
    "The output of the function must return a list containing the subtotal, tax, and totals."
   ]
  },
  {
   "cell_type": "code",
   "execution_count": 92,
   "id": "b71c38f1",
   "metadata": {},
   "outputs": [
    {
     "name": "stdout",
     "output_type": "stream",
     "text": [
      "Overwriting test.py\n"
     ]
    }
   ],
   "source": [
    "\n",
    "%%writefile test.py\n",
    "print(\"Hello from test.py!\")\n",
    "\n",
    "#haha\n"
   ]
  },
  {
   "cell_type": "code",
   "execution_count": 93,
   "id": "c6f1921d",
   "metadata": {},
   "outputs": [
    {
     "data": {
      "text/plain": [
       "[100, 6.0, 106.0]"
      ]
     },
     "execution_count": 93,
     "metadata": {},
     "output_type": "execute_result"
    }
   ],
   "source": [
    "from tc import tc\n",
    "\n",
    "tc(subt)"
   ]
  },
  {
   "cell_type": "markdown",
   "id": "a0d0a1b1",
   "metadata": {},
   "source": [
    "___\n",
    "## Assignment: Importing A Module\n",
    "### Using the tax calculator!\n",
    "Import the tax calculator module."
   ]
  },
  {
   "cell_type": "code",
   "execution_count": 94,
   "id": "044dda72",
   "metadata": {},
   "outputs": [],
   "source": [
    "from tc import tc"
   ]
  },
  {
   "cell_type": "markdown",
   "id": "03f71d96",
   "metadata": {},
   "source": [
    "#### Processing Transactions\n",
    "Apply the tax calculator to the list of subtotals below.\n",
    "\n",
    "Create a new list, `ft` where it stores all of the results returned from the tax calculator. Use the default tax rate for each transaction."
   ]
  },
  {
   "cell_type": "code",
   "execution_count": 95,
   "id": "0f1a924d",
   "metadata": {},
   "outputs": [
    {
     "data": {
      "text/plain": [
       "[[15.98, 0.96, 16.94],\n",
       " [899.97, 54.0, 953.97],\n",
       " [799.97, 48.0, 847.97],\n",
       " [117.96, 7.08, 125.04],\n",
       " [5.99, 0.36, 6.35],\n",
       " [599.99, 36.0, 635.99]]"
      ]
     },
     "execution_count": 95,
     "metadata": {},
     "output_type": "execute_result"
    }
   ],
   "source": [
    "from tc import tc\n",
    "subtotals = [15.98, 899.97, 799.97, 117.96, 5.99, 599.99]\n",
    "ft = []\n",
    "\n",
    "ft = [tc(subtotal) for subtotal in subtotals]\n",
    "\n",
    "ft"
   ]
  },
  {
   "cell_type": "markdown",
   "id": "510bbcfa",
   "metadata": {},
   "source": [
    "#### Transaction Dictionary\n",
    "Combine the transactions (from above) with the `cids` below into a dictionary.\n",
    "\n",
    "`cids` should stored as keys and the transactions as values."
   ]
  },
  {
   "cell_type": "code",
   "execution_count": 96,
   "id": "98ca3bb1",
   "metadata": {},
   "outputs": [
    {
     "data": {
      "text/plain": [
       "{'C00004': [15.98, 0.96, 16.94],\n",
       " 'C00007': [899.97, 54.0, 953.97],\n",
       " 'C00015': [799.97, 48.0, 847.97],\n",
       " 'C00016': [117.96, 7.08, 125.04],\n",
       " 'C00020': [5.99, 0.36, 6.35],\n",
       " 'C00010': [599.99, 36.0, 635.99]}"
      ]
     },
     "execution_count": 96,
     "metadata": {},
     "output_type": "execute_result"
    }
   ],
   "source": [
    "cid = ['C00004', 'C00007', 'C00015', 'C00016', 'C00020', 'C00010']\n",
    "\n",
    "cdict = {\n",
    "    jack: [round(v[0], 2), round(v[1], 2), round(v[2], 2)] for jack, v in zip(cid, ft)\n",
    "}\n",
    "\n",
    "cdict"
   ]
  },
  {
   "cell_type": "markdown",
   "id": "027811a7",
   "metadata": {},
   "source": [
    "___\n",
    "## Assignment: Map()\n",
    "### Mapping the tax calculator\n",
    "Apply the working tax calculator to the subtotals below. Note: Do not create any f-loop iterations."
   ]
  },
  {
   "cell_type": "code",
   "execution_count": 97,
   "id": "67c704d5",
   "metadata": {},
   "outputs": [
    {
     "name": "stdout",
     "output_type": "stream",
     "text": [
      "Answer: [[1799.94, 108.0, 1907.94], [99.99, 6.0, 105.99], [254.95, 15.3, 270.25], [29.98, 1.8, 31.78], [99.99, 6.0, 105.99]]\n"
     ]
    }
   ],
   "source": [
    "from tc import tc\n",
    "subtotals = [1799.94, 99.99, 254.95, 29.98, 99.99]\n",
    "\n",
    "\n",
    "# do not use this f loop ft = [tc(subtotal) for subtotal in subtotals]\n",
    "\n",
    "\n",
    "jasur = list(map(tc, subtotals))\n",
    "\n",
    "print(f'Answer: {jasur}')"
   ]
  },
  {
   "cell_type": "markdown",
   "id": "8c48b985",
   "metadata": {},
   "source": [
    "___\n",
    "## Assignment: Lambda Functions\n",
    "### Apply A Special Discount\n",
    "Apply a 10% discount for customers who purchased more than 500 dollars worth of product.\n",
    "\n",
    "Store the new prices in a list called `dis`."
   ]
  },
  {
   "cell_type": "code",
   "execution_count": 98,
   "id": "854c2fc0",
   "metadata": {},
   "outputs": [
    {
     "data": {
      "text/plain": [
       "[15.98, 809.97, 719.97, 117.96, 5.99, 539.99]"
      ]
     },
     "execution_count": 98,
     "metadata": {},
     "output_type": "execute_result"
    }
   ],
   "source": [
    "subtotals = [15.98, 899.97, 799.97, 117.96, 5.99, 599.99]\n",
    "dis = list(map(lambda x: round(x * 0.9, 2) if x > 500 else x, subtotals))\n",
    "\n",
    "dis"
   ]
  },
  {
   "cell_type": "markdown",
   "id": "97882f2d",
   "metadata": {},
   "source": [
    "___\n",
    "## Assignment: List Comprehension\n",
    "### Total Cost of European Items\n",
    "Below is the code to recreate the European item dictionary. Run the cells below, then follow the instructions below."
   ]
  },
  {
   "cell_type": "code",
   "execution_count": 99,
   "id": "63f2588f",
   "metadata": {},
   "outputs": [],
   "source": [
    "ids = [10001, 10002, 10003, 10004, 10005, 10006, 10007, 10008, 10009]\n",
    "names = [\"Coffee\", \"Beanie\", \"Gloves\", \"Sweatshirt\", \"Helmet\", \"Snow Pants\", \"Coat\", \"Ski Poles\", \"Ski Boots\"]\n",
    "euros = [5.27, 8.79, 17.59, 21.99, 87.99, 70.39, 105.59, 87.99, 175.99]\n",
    "cat = [\"beverage\", \"clothing\", \"clothing\", \"clothing\", \"safety\", \"clothing\", \"clothing\", \"hardware\", \"hardware\"]\n",
    "sizes = [\n",
    "    [\"250mL\"],\n",
    "    [\"Child\", \"Adult\"],\n",
    "    [\"Child\", \"Adult\"],\n",
    "    [\"XS\", \"S\", \"M\", \"L\", \"XL\", \"XXL\"],\n",
    "    [\"Child\", \"Adult\"],\n",
    "    [\"XS\", \"S\", \"M\", \"L\", \"XL\", \"XXL\"],\n",
    "    [\"S\", \"M\", \"L\"],\n",
    "    [\"S\", \"M\", \"L\"],\n",
    "    [5, 6, 7, 8, 9, 10, 11],\n",
    "    [\"S\", \"M\", \"L\"],\n",
    "    [5, 6, 7, 8, 9, 10, 11],\n",
    "    [\"NA\"],\n",
    "    [\"S\", \"M\", \"L\", \"Powder\"],\n",
    "]"
   ]
  },
  {
   "cell_type": "code",
   "execution_count": 100,
   "id": "0a73f3d3",
   "metadata": {},
   "outputs": [
    {
     "name": "stdout",
     "output_type": "stream",
     "text": [
      "{10001: ('Coffee', 5.27, 'beverage'), 10002: ('Beanie', 8.79, 'clothing'), 10003: ('Gloves', 17.59, 'clothing'), 10004: ('Sweatshirt', 21.99, 'clothing'), 10005: ('Helmet', 87.99, 'safety'), 10006: ('Snow Pants', 70.39, 'clothing'), 10007: ('Coat', 105.59, 'clothing'), 10008: ('Ski Poles', 87.99, 'hardware'), 10009: ('Ski Boots', 175.99, 'hardware')}\n"
     ]
    },
    {
     "data": {
      "text/plain": [
       "[5.27, 8.79, 17.59, 21.99, 87.99, 70.39, 105.59, 87.99, 175.99]"
      ]
     },
     "execution_count": 100,
     "metadata": {},
     "output_type": "execute_result"
    }
   ],
   "source": [
    "# Dictionary comprehension (See the next section)\n",
    "\n",
    "data = {id: (name, euro, category) for id, name, euro, category in zip(ids, names, euros, cat)}\n",
    "print(data)\n",
    "\n",
    "eurodata = [info[1] for info in data.values()]\n",
    "eurodata"
   ]
  },
  {
   "cell_type": "markdown",
   "id": "ac187928",
   "metadata": {},
   "source": [
    "### Calculate the Total Cost of Items\n",
    "Calculate the amount it would cost to purchase all the items in `eurodata`. Use list comprehension to extract the item prices."
   ]
  },
  {
   "cell_type": "code",
   "execution_count": 101,
   "id": "abe21ce0",
   "metadata": {},
   "outputs": [
    {
     "name": "stdout",
     "output_type": "stream",
     "text": [
      "Total cost: 581.59 EUR\n"
     ]
    }
   ],
   "source": [
    "# Use a list comprehension to extract the second object in each dictionary entries values then sum\n",
    "eurodata = [item[1] for item in data.values()]\n",
    "\n",
    "eurodata_sum=sum(eurodata)\n",
    "\n",
    "print(f'Total cost: {eurodata_sum} EUR')"
   ]
  },
  {
   "cell_type": "markdown",
   "id": "7a7ed14e",
   "metadata": {},
   "source": [
    "___\n",
    "## Assignment: Dictionary Comprehension\n",
    "### Transaction Dictionary Creator\n",
    "Some final updates to the tax calculator function."
   ]
  },
  {
   "cell_type": "code",
   "execution_count": 102,
   "id": "64a2f40b",
   "metadata": {},
   "outputs": [
    {
     "name": "stdout",
     "output_type": "stream",
     "text": [
      "Result: {'C00004': [15.98, 0.96, 16.94], 'C00007': [899.97, 54.0, 953.97], 'C00015': [799.97, 48.0, 847.97], 'C00016': [117.96, 7.08, 125.04], 'C00020': [5.99, 0.36, 6.35], 'C00010': [599.99, 36.0, 635.99]}\n",
      "Result: {'C00004': [15.98, 0.96, 16.94], 'C00007': [899.97, 54.0, 953.97], 'C00015': [799.97, 48.0, 847.97], 'C00016': [117.96, 7.08, 125.04], 'C00020': [5.99, 0.36, 6.35], 'C00010': [599.99, 36.0, 635.99]}\n"
     ]
    }
   ],
   "source": [
    "# Step 1: Define the function, tc\n",
    "# Pass in a object value (subtotal) from the list, subtotals, as arguements\n",
    "# Pass in the tax rate\n",
    "# Return 3 values in a list: [subtotal, tax, total]\n",
    "\n",
    "\n",
    "\n",
    "from tc_dynamic import tc\n",
    "\n",
    "cid = ['C00004', 'C00007', 'C00015', 'C00016', 'C00020', 'C00010']\n",
    "subtotals = [15.98, 899.97, 799.97, 117.96, 5.99, 599.99]\n",
    "taxrate = 0.06\n",
    "\n",
    "results = dict(zip(cid, map(lambda subtotal: tc(subtotal, taxrate), subtotals)))\n",
    "\n",
    "print(f'Result: {results}')\n",
    "\n",
    "\n",
    "#range method:\n",
    "\n",
    "results = {}\n",
    "for i in range(len(cid)):\n",
    "    results[cid[i]] = tc(subtotals[i], taxrate)\n",
    "\n",
    "print(f'Result: {results}')\n"
   ]
  },
  {
   "cell_type": "code",
   "execution_count": 103,
   "id": "793bbbbb",
   "metadata": {},
   "outputs": [
    {
     "name": "stdout",
     "output_type": "stream",
     "text": [
      "[15.98, 0.96, 16.94]\n"
     ]
    }
   ],
   "source": [
    "\n",
    "#%%writefile tc_dynamic.py\n",
    "# Step 2: Test the function,tc by passing in a value from the list, subtotals\n",
    "\n",
    "from tc_dynamic import tc\n",
    "taxrate = 0.06\n",
    "\n",
    "result = tc(15.98, taxrate)\n",
    "\n",
    "print(result)"
   ]
  },
  {
   "cell_type": "code",
   "execution_count": 104,
   "id": "fde74bcb",
   "metadata": {},
   "outputs": [
    {
     "name": "stdout",
     "output_type": "stream",
     "text": [
      "Result: {'C00004': [15.98, 0.96, 16.94], 'C00007': [899.97, 54.0, 953.97], 'C00015': [799.97, 48.0, 847.97], 'C00016': [117.96, 7.08, 125.04], 'C00020': [5.99, 0.36, 6.35], 'C00010': [599.99, 36.0, 635.99]}\n"
     ]
    }
   ],
   "source": [
    "# Step 3: Define another function, tdc, to build a dictionary via zip\n",
    "# Pass in 3 arguements: cid, subtotals(the list from above) and taxrate\n",
    "# For dictionary keys, use cid\n",
    "# For dictionary values, use the function from step 1, tc(x,taxrate)\n",
    "\n",
    "\n",
    "from tc_dynamic import tc\n",
    "\n",
    "def tdc(cid, subtotals, taxrate):\n",
    "    return {cust_id: tc(subtotal, taxrate) for cust_id, subtotal in zip(cid, subtotals)}\n",
    "\n",
    "results = tdc(cid, subtotals, taxrate)\n",
    "\n",
    "print(f'Result: {results}')"
   ]
  },
  {
   "cell_type": "code",
   "execution_count": 105,
   "id": "65c7891d",
   "metadata": {},
   "outputs": [
    {
     "name": "stdout",
     "output_type": "stream",
     "text": [
      "Result: {'C00004': [15.98, 0.96, 16.94], 'C00007': [899.97, 54.0, 953.97], 'C00015': [799.97, 48.0, 847.97], 'C00016': [117.96, 7.08, 125.04], 'C00020': [5.99, 0.36, 6.35], 'C00010': [599.99, 36.0, 635.99]}\n"
     ]
    }
   ],
   "source": [
    "# Alternative method for step 3: Comprehension with emumerate\n",
    "\n",
    "tdc2 = {cid[i]: tc(subtotals[i], taxrate) for i, _ in enumerate(cid)}\n",
    "\n",
    "print(f'Result: {tdc2}')"
   ]
  },
  {
   "cell_type": "code",
   "execution_count": 106,
   "id": "2356fc43",
   "metadata": {},
   "outputs": [
    {
     "data": {
      "text/plain": [
       "{'C00004': [15.98, 1.6, 17.58],\n",
       " 'C00007': [899.97, 90.0, 989.97],\n",
       " 'C00015': [799.97, 80.0, 879.97],\n",
       " 'C00016': [117.96, 11.8, 129.76],\n",
       " 'C00020': [5.99, 0.6, 6.59],\n",
       " 'C00010': [599.99, 60.0, 659.99]}"
      ]
     },
     "execution_count": 106,
     "metadata": {},
     "output_type": "execute_result"
    }
   ],
   "source": [
    "# Step 4: A new set of calculations if the tax rate is increased to 0.1%\n",
    "tdc(cid,subtotals,0.1)"
   ]
  },
  {
   "cell_type": "markdown",
   "id": "ee95e92c",
   "metadata": {},
   "source": [
    "___"
   ]
  }
 ],
 "metadata": {
  "kernelspec": {
   "display_name": "Python 3 (ipykernel)",
   "language": "python",
   "name": "python3"
  },
  "language_info": {
   "codemirror_mode": {
    "name": "ipython",
    "version": 3
   },
   "file_extension": ".py",
   "mimetype": "text/x-python",
   "name": "python",
   "nbconvert_exporter": "python",
   "pygments_lexer": "ipython3",
   "version": "3.12.4"
  }
 },
 "nbformat": 4,
 "nbformat_minor": 5
}
