{
 "cells": [
  {
   "cell_type": "markdown",
   "id": "08595217",
   "metadata": {},
   "source": [
    "# **Variables**\n",
    "## Assignment: Variable Assignment\n",
    "#### Tax Printing Code Change\n",
    "\n",
    "Change the following code that adds a dollar in tax to the price before printing. \n",
    "The tax will no longer be fixed at one dollar, so:\n",
    "* Create a ‘tax’ variable and assign it a value of 2\n",
    "* Create a ‘total’ variable equal to ‘price’ + ‘tax’\n",
    "* Print ‘total’"
   ]
  },
  {
   "cell_type": "code",
   "execution_count": 19,
   "id": "248559ed",
   "metadata": {},
   "outputs": [
    {
     "name": "stdout",
     "output_type": "stream",
     "text": [
      "6\n"
     ]
    }
   ],
   "source": [
    "# Original Tax Code\n",
    "price = 5\n",
    "print(price + 1)"
   ]
  },
  {
   "cell_type": "code",
   "execution_count": 20,
   "id": "edc319a7",
   "metadata": {},
   "outputs": [
    {
     "name": "stdout",
     "output_type": "stream",
     "text": [
      "Total price: 7$\n"
     ]
    }
   ],
   "source": [
    "tax=2\n",
    "total=price+tax\n",
    "total=print(f'Total price: {total}$')"
   ]
  },
  {
   "cell_type": "markdown",
   "id": "36df344f",
   "metadata": {},
   "source": [
    "___\n",
    "## Assignment: Fixing Variables"
   ]
  },
  {
   "cell_type": "code",
   "execution_count": 21,
   "id": "65272a94",
   "metadata": {},
   "outputs": [],
   "source": [
    "price_list_2018 = [4.99, 8.99, 17.99, 22.99, 94.99]"
   ]
  },
  {
   "cell_type": "code",
   "execution_count": 22,
   "id": "277fba73",
   "metadata": {},
   "outputs": [],
   "source": [
    "price_list_2018 = '[4.99, 8.99, 17.99, 22.99, 94.99]'"
   ]
  },
  {
   "cell_type": "code",
   "execution_count": 23,
   "id": "beca4be9",
   "metadata": {},
   "outputs": [],
   "source": [
    "prices_FOR_2018 = [4.99, 8.99, 17.99, 22.99, 94.99]"
   ]
  },
  {
   "cell_type": "code",
   "execution_count": 24,
   "id": "4641cdfe",
   "metadata": {},
   "outputs": [],
   "source": [
    "price_list_2019 = [5.99, 9.99, 19.99, 24.99, 99.99]"
   ]
  },
  {
   "cell_type": "code",
   "execution_count": 25,
   "id": "c09fce17",
   "metadata": {},
   "outputs": [],
   "source": [
    "price_list_2019 = [5.99, 9.99, 19.99, 24.99, 99.99]"
   ]
  },
  {
   "cell_type": "code",
   "execution_count": 26,
   "id": "45e4bdad",
   "metadata": {},
   "outputs": [],
   "source": [
    "prices = [5.99, 9.99, 19.99, 24.99, 99.99]"
   ]
  },
  {
   "cell_type": "code",
   "execution_count": 27,
   "id": "9482b508",
   "metadata": {},
   "outputs": [
    {
     "ename": "SyntaxError",
     "evalue": "invalid syntax (1241384829.py, line 1)",
     "output_type": "error",
     "traceback": [
      "\u001b[1;36m  Cell \u001b[1;32mIn[27], line 1\u001b[1;36m\u001b[0m\n\u001b[1;33m    2020 list = [6.49, 10.49, 19.99, 26.99, 104.99]\u001b[0m\n\u001b[1;37m         ^\u001b[0m\n\u001b[1;31mSyntaxError\u001b[0m\u001b[1;31m:\u001b[0m invalid syntax\n"
     ]
    }
   ],
   "source": [
    "2020 list = [6.49, 10.49, 19.99, 26.99, 104.99]\n",
    "\n",
    "\"\"\" list_2020 = [6.49, 10.49, 19.99, 26.99, 104.99] this would be the correct version of it 😺 \"\"\""
   ]
  },
  {
   "cell_type": "code",
   "execution_count": 28,
   "id": "496b7e9f",
   "metadata": {},
   "outputs": [
    {
     "name": "stdout",
     "output_type": "stream",
     "text": [
      "price\t price_list_2018\t price_list_2019\t prices\t prices_FOR_2018\t tax\t total\t \n",
      "Variable          Type        Data/Info\n",
      "---------------------------------------\n",
      "price             int         5\n",
      "price_list_2018   str         [4.99, 8.99, 17.99, 22.99, 94.99]\n",
      "price_list_2019   list        n=5\n",
      "prices            list        n=5\n",
      "prices_FOR_2018   list        n=5\n",
      "tax               int         2\n",
      "total             NoneType    None\n"
     ]
    }
   ],
   "source": [
    "%who\n",
    "%whos"
   ]
  },
  {
   "cell_type": "markdown",
   "id": "5412ca06",
   "metadata": {},
   "source": [
    "___"
   ]
  }
 ],
 "metadata": {
  "kernelspec": {
   "display_name": "Python 3 (ipykernel)",
   "language": "python",
   "name": "python3"
  },
  "language_info": {
   "codemirror_mode": {
    "name": "ipython",
    "version": 3
   },
   "file_extension": ".py",
   "mimetype": "text/x-python",
   "name": "python",
   "nbconvert_exporter": "python",
   "pygments_lexer": "ipython3",
   "version": "3.12.4"
  }
 },
 "nbformat": 4,
 "nbformat_minor": 5
}
