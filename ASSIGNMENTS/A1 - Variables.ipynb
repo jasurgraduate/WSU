{
 "cells": [
  {
   "cell_type": "markdown",
   "id": "08595217",
   "metadata": {},
   "source": [
    "# **Variables**\n",
    "## Assignment: Variable Assignment\n",
    "#### Tax Printing Code Change\n",
    "\n",
    "Change the following code that adds a dollar in tax to the price before printing. \n",
    "The tax will no longer be fixed at one dollar, so:\n",
    "* Create a ‘tax’ variable and assign it a value of 2\n",
    "* Create a ‘total’ variable equal to ‘price’ + ‘tax’\n",
    "* Print ‘total’"
   ]
  },
  {
   "cell_type": "code",
   "execution_count": 1,
   "id": "248559ed",
   "metadata": {},
   "outputs": [
    {
     "name": "stdout",
     "output_type": "stream",
     "text": [
      "Tax value is: 2$\n",
      "Total price is: 7$\n"
     ]
    }
   ],
   "source": [
    "# Original Tax Code\n",
    "price = 5\n",
    "print(f'Tax value is: {2}$')\n",
    "tax=2\n",
    "total=price + tax\n",
    "print(f'Total price is: {total}$')"
   ]
  },
  {
   "cell_type": "markdown",
   "id": "c6a2d91d",
   "metadata": {},
   "source": [
    "Done! ✅"
   ]
  },
  {
   "cell_type": "markdown",
   "id": "ca23b418",
   "metadata": {},
   "source": []
  },
  {
   "cell_type": "code",
   "execution_count": null,
   "id": "edc319a7",
   "metadata": {},
   "outputs": [],
   "source": []
  },
  {
   "cell_type": "markdown",
   "id": "36df344f",
   "metadata": {},
   "source": [
    "___\n",
    "## Assignment: Fixing Variables"
   ]
  },
  {
   "cell_type": "code",
   "execution_count": 2,
   "id": "65272a94",
   "metadata": {},
   "outputs": [
    {
     "ename": "SyntaxError",
     "evalue": "invalid decimal literal (2812220237.py, line 1)",
     "output_type": "error",
     "traceback": [
      "\u001b[1;36m  Cell \u001b[1;32mIn[2], line 1\u001b[1;36m\u001b[0m\n\u001b[1;33m    2018_price_list = [4.99, 8.99, 17.99, 22.99, 94.99]\u001b[0m\n\u001b[1;37m        ^\u001b[0m\n\u001b[1;31mSyntaxError\u001b[0m\u001b[1;31m:\u001b[0m invalid decimal literal\n"
     ]
    }
   ],
   "source": [
    "2018_price_list = [4.99, 8.99, 17.99, 22.99, 94.99]"
   ]
  },
  {
   "cell_type": "code",
   "execution_count": null,
   "id": "277fba73",
   "metadata": {},
   "outputs": [],
   "source": [
    "price_list_2018 = '[4.99, 8.99, 17.99, 22.99, 94.99]'"
   ]
  },
  {
   "cell_type": "code",
   "execution_count": null,
   "id": "beca4be9",
   "metadata": {},
   "outputs": [],
   "source": [
    "prices_FOR_2018 = [4.99, 8.99, 17.99, 22.99, 94.99]"
   ]
  },
  {
   "cell_type": "code",
   "execution_count": null,
   "id": "4641cdfe",
   "metadata": {},
   "outputs": [],
   "source": [
    "price_list-2019 = [5.99, 9.99, 19.99, 24.99, 99.99]"
   ]
  },
  {
   "cell_type": "code",
   "execution_count": null,
   "id": "c09fce17",
   "metadata": {},
   "outputs": [],
   "source": [
    "price_list2019 = [5.99, 9.99, 19.99, 24.99, 99.99]"
   ]
  },
  {
   "cell_type": "code",
   "execution_count": null,
   "id": "45e4bdad",
   "metadata": {},
   "outputs": [],
   "source": [
    "prices = [5.99, 9.99, 19.99, 24.99, 99.99]"
   ]
  },
  {
   "cell_type": "code",
   "execution_count": null,
   "id": "9482b508",
   "metadata": {},
   "outputs": [],
   "source": [
    "2020 list = [6.49, 10.49, 19.99, 26.99, 104.99]"
   ]
  },
  {
   "cell_type": "markdown",
   "id": "5412ca06",
   "metadata": {},
   "source": [
    "___"
   ]
  }
 ],
 "metadata": {
  "kernelspec": {
   "display_name": "Python 3 (ipykernel)",
   "language": "python",
   "name": "python3"
  },
  "language_info": {
   "codemirror_mode": {
    "name": "ipython",
    "version": 3
   },
   "file_extension": ".py",
   "mimetype": "text/x-python",
   "name": "python",
   "nbconvert_exporter": "python",
   "pygments_lexer": "ipython3",
   "version": "3.12.4"
  }
 },
 "nbformat": 4,
 "nbformat_minor": 5
}
