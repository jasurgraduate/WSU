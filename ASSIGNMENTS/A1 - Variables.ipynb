{
 "cells": [
  {
   "cell_type": "markdown",
   "id": "08595217",
   "metadata": {},
   "source": [
    "# **Variables**\n",
    "## Assignment: Variable Assignment\n",
    "#### Tax Printing Code Change\n",
    "\n",
    "Change the following code that adds a dollar in tax to the price before printing. \n",
    "The tax will no longer be fixed at one dollar, so:\n",
    "* Create a ‘tax’ variable and assign it a value of 2\n",
    "* Create a ‘total’ variable equal to ‘price’ + ‘tax’\n",
    "* Print ‘total’"
   ]
  },
  {
   "cell_type": "code",
   "execution_count": 1,
   "id": "248559ed",
   "metadata": {},
   "outputs": [
    {
     "name": "stdout",
     "output_type": "stream",
     "text": [
      "6\n"
     ]
    }
   ],
   "source": [
    "# Original Tax Code\n",
    "price = 5\n",
    "print(price + 1)"
   ]
  },
  {
   "cell_type": "code",
   "execution_count": 2,
   "id": "edc319a7",
   "metadata": {},
   "outputs": [
    {
     "name": "stdout",
     "output_type": "stream",
     "text": [
      "Total price: 7$\n"
     ]
    }
   ],
   "source": [
    "tax=2\n",
    "total=price+tax\n",
    "total=print(f'Total price: {total}$')"
   ]
  },
  {
   "cell_type": "markdown",
   "id": "36df344f",
   "metadata": {},
   "source": [
    "___\n",
    "## Assignment: Fixing Variables"
   ]
  },
  {
   "cell_type": "code",
   "execution_count": 3,
   "id": "65272a94",
   "metadata": {},
   "outputs": [],
   "source": [
    "price_list_2018 = [4.99, 8.99, 17.99, 22.99, 94.99]"
   ]
  },
  {
   "cell_type": "code",
   "execution_count": 4,
   "id": "277fba73",
   "metadata": {},
   "outputs": [],
   "source": [
    "price_list_2018 = '[4.99, 8.99, 17.99, 22.99, 94.99]'"
   ]
  },
  {
   "cell_type": "code",
   "execution_count": 5,
   "id": "beca4be9",
   "metadata": {},
   "outputs": [],
   "source": [
    "prices_FOR_2018 = [4.99, 8.99, 17.99, 22.99, 94.99]"
   ]
  },
  {
   "cell_type": "code",
   "execution_count": 6,
   "id": "4641cdfe",
   "metadata": {},
   "outputs": [],
   "source": [
    "price_list_2019 = [5.99, 9.99, 19.99, 24.99, 99.99]"
   ]
  },
  {
   "cell_type": "code",
   "execution_count": 7,
   "id": "c09fce17",
   "metadata": {},
   "outputs": [],
   "source": [
    "price_list_2019 = [5.99, 9.99, 19.99, 24.99, 99.99]"
   ]
  },
  {
   "cell_type": "code",
   "execution_count": 8,
   "id": "45e4bdad",
   "metadata": {},
   "outputs": [],
   "source": [
    "prices = [5.99, 9.99, 19.99, 24.99, 99.99]"
   ]
  },
  {
   "cell_type": "code",
   "execution_count": 9,
   "id": "9482b508",
   "metadata": {},
   "outputs": [
    {
     "data": {
      "text/plain": [
       "' list_2020 = [6.49, 10.49, 19.99, 26.99, 104.99] this would be the correct version of it 😺 '"
      ]
     },
     "execution_count": 9,
     "metadata": {},
     "output_type": "execute_result"
    }
   ],
   "source": [
    "# 2020 list = [6.49, 10.49, 19.99, 26.99, 104.99]   --- this is giving error so i commented it\n",
    "\n",
    "\"\"\" list_2020 = [6.49, 10.49, 19.99, 26.99, 104.99] this would be the correct version of it 😺 \"\"\""
   ]
  },
  {
   "cell_type": "code",
   "execution_count": 10,
   "id": "496b7e9f",
   "metadata": {},
   "outputs": [
    {
     "name": "stdout",
     "output_type": "stream",
     "text": [
      "price\t price_list_2018\t price_list_2019\t prices\t prices_FOR_2018\t tax\t total\t \n",
      "Variable          Type        Data/Info\n",
      "---------------------------------------\n",
      "price             int         5\n",
      "price_list_2018   str         [4.99, 8.99, 17.99, 22.99, 94.99]\n",
      "price_list_2019   list        n=5\n",
      "prices            list        n=5\n",
      "prices_FOR_2018   list        n=5\n",
      "tax               int         2\n",
      "total             NoneType    None\n"
     ]
    }
   ],
   "source": [
    "%who\n",
    "%whos"
   ]
  },
  {
   "cell_type": "markdown",
   "id": "5412ca06",
   "metadata": {},
   "source": [
    "___"
   ]
  }
 ],
 "metadata": {
  "kernelspec": {
   "display_name": "Python 3 (ipykernel)",
   "language": "python",
   "name": "python3"
  },
  "language_info": {
   "codemirror_mode": {
    "name": "ipython",
    "version": 3
   },
   "file_extension": ".py",
   "mimetype": "text/x-python",
   "name": "python",
   "nbconvert_exporter": "python",
   "pygments_lexer": "ipython3",
   "version": "3.12.4"
  }
 },
 "nbformat": 4,
 "nbformat_minor": 5
}
