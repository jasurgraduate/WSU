{
 "cells": [
  {
   "cell_type": "markdown",
   "id": "08595217",
   "metadata": {},
   "source": [
    "# **Variables**\n",
    "## Assignment: Variable Assignment\n",
    "#### Tax Printing Code Change\n",
    "\n",
    "Change the following code that adds a dollar in tax to the price before printing. \n",
    "The tax will no longer be fixed at one dollar, so:\n",
    "* Create a ‘tax’ variable and assign it a value of 2\n",
    "* Create a ‘total’ variable equal to ‘price’ + ‘tax’\n",
    "* Print ‘total’"
   ]
  },
  {
   "cell_type": "code",
   "execution_count": 1,
   "id": "248559ed",
   "metadata": {},
   "outputs": [
    {
     "name": "stdout",
     "output_type": "stream",
     "text": [
      "6\n"
     ]
    }
   ],
   "source": [
    "# Original Tax Code\n",
    "price = 5\n",
    "print(price + 1)"
   ]
  },
  {
   "cell_type": "code",
   "execution_count": 3,
   "id": "edc319a7",
   "metadata": {},
   "outputs": [
    {
     "name": "stdout",
     "output_type": "stream",
     "text": [
      "Total price: 7$\n"
     ]
    }
   ],
   "source": [
    "tax=2\n",
    "total=price+tax\n",
    "total=print(f'Total price: {total}$')"
   ]
  },
  {
   "cell_type": "markdown",
   "id": "36df344f",
   "metadata": {},
   "source": [
    "___\n",
    "## Assignment: Fixing Variables"
   ]
  },
  {
   "cell_type": "code",
   "execution_count": null,
   "id": "65272a94",
   "metadata": {},
   "outputs": [],
   "source": [
    "price_list_2018 = [4.99, 8.99, 17.99, 22.99, 94.99]"
   ]
  },
  {
   "cell_type": "code",
   "execution_count": null,
   "id": "277fba73",
   "metadata": {},
   "outputs": [],
   "source": [
    "price_list_2018 = '[4.99, 8.99, 17.99, 22.99, 94.99]'"
   ]
  },
  {
   "cell_type": "code",
   "execution_count": null,
   "id": "beca4be9",
   "metadata": {},
   "outputs": [],
   "source": [
    "prices_FOR_2018 = [4.99, 8.99, 17.99, 22.99, 94.99]"
   ]
  },
  {
   "cell_type": "code",
   "execution_count": null,
   "id": "4641cdfe",
   "metadata": {},
   "outputs": [],
   "source": [
    "price_list-2019 = [5.99, 9.99, 19.99, 24.99, 99.99]"
   ]
  },
  {
   "cell_type": "code",
   "execution_count": null,
   "id": "c09fce17",
   "metadata": {},
   "outputs": [],
   "source": [
    "price_list2019 = [5.99, 9.99, 19.99, 24.99, 99.99]"
   ]
  },
  {
   "cell_type": "code",
   "execution_count": null,
   "id": "45e4bdad",
   "metadata": {},
   "outputs": [],
   "source": [
    "prices = [5.99, 9.99, 19.99, 24.99, 99.99]"
   ]
  },
  {
   "cell_type": "code",
   "execution_count": null,
   "id": "9482b508",
   "metadata": {},
   "outputs": [],
   "source": [
    "2020 list = [6.49, 10.49, 19.99, 26.99, 104.99]"
   ]
  },
  {
   "cell_type": "markdown",
   "id": "5412ca06",
   "metadata": {},
   "source": [
    "___"
   ]
  }
 ],
 "metadata": {
  "kernelspec": {
   "display_name": "Python 3 (ipykernel)",
   "language": "python",
   "name": "python3"
  },
  "language_info": {
   "codemirror_mode": {
    "name": "ipython",
    "version": 3
   },
   "file_extension": ".py",
   "mimetype": "text/x-python",
   "name": "python",
   "nbconvert_exporter": "python",
   "pygments_lexer": "ipython3",
   "version": "3.12.4"
  }
 },
 "nbformat": 4,
 "nbformat_minor": 5
}
